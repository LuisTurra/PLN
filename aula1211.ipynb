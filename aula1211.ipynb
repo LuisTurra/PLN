{
 "cells": [
  {
   "cell_type": "code",
   "execution_count": 4,
   "metadata": {},
   "outputs": [],
   "source": [
    "import pandas as pd\n",
    "from sklearn.model_selection import train_test_split\n",
    "from sklearn.preprocessing import LabelEncoder\n",
    "from sklearn.feature_extraction.text import CountVectorizer\n",
    "from sklearn.metrics import confusion_matrix\n",
    "from keras.models import Sequential\n",
    "from keras.layers import Dense,Dropout\n"
   ]
  },
  {
   "cell_type": "code",
   "execution_count": 6,
   "metadata": {},
   "outputs": [
    {
     "data": {
      "text/html": [
       "<div>\n",
       "<style scoped>\n",
       "    .dataframe tbody tr th:only-of-type {\n",
       "        vertical-align: middle;\n",
       "    }\n",
       "\n",
       "    .dataframe tbody tr th {\n",
       "        vertical-align: top;\n",
       "    }\n",
       "\n",
       "    .dataframe thead th {\n",
       "        text-align: right;\n",
       "    }\n",
       "</style>\n",
       "<table border=\"1\" class=\"dataframe\">\n",
       "  <thead>\n",
       "    <tr style=\"text-align: right;\">\n",
       "      <th></th>\n",
       "      <th>Category</th>\n",
       "      <th>Message</th>\n",
       "    </tr>\n",
       "  </thead>\n",
       "  <tbody>\n",
       "    <tr>\n",
       "      <th>0</th>\n",
       "      <td>ham</td>\n",
       "      <td>Go until jurong point, crazy.. Available only ...</td>\n",
       "    </tr>\n",
       "    <tr>\n",
       "      <th>1</th>\n",
       "      <td>ham</td>\n",
       "      <td>Ok lar... Joking wif u oni...</td>\n",
       "    </tr>\n",
       "    <tr>\n",
       "      <th>2</th>\n",
       "      <td>spam</td>\n",
       "      <td>Free entry in 2 a wkly comp to win FA Cup fina...</td>\n",
       "    </tr>\n",
       "    <tr>\n",
       "      <th>3</th>\n",
       "      <td>ham</td>\n",
       "      <td>U dun say so early hor... U c already then say...</td>\n",
       "    </tr>\n",
       "    <tr>\n",
       "      <th>4</th>\n",
       "      <td>ham</td>\n",
       "      <td>Nah I don't think he goes to usf, he lives aro...</td>\n",
       "    </tr>\n",
       "  </tbody>\n",
       "</table>\n",
       "</div>"
      ],
      "text/plain": [
       "  Category                                            Message\n",
       "0      ham  Go until jurong point, crazy.. Available only ...\n",
       "1      ham                      Ok lar... Joking wif u oni...\n",
       "2     spam  Free entry in 2 a wkly comp to win FA Cup fina...\n",
       "3      ham  U dun say so early hor... U c already then say...\n",
       "4      ham  Nah I don't think he goes to usf, he lives aro..."
      ]
     },
     "execution_count": 6,
     "metadata": {},
     "output_type": "execute_result"
    }
   ],
   "source": [
    "spam = pd.read_csv(\"spam.csv\")\n",
    "spam.head()"
   ]
  },
  {
   "cell_type": "code",
   "execution_count": 7,
   "metadata": {},
   "outputs": [],
   "source": [
    "labelencoder = LabelEncoder()"
   ]
  },
  {
   "cell_type": "code",
   "execution_count": 8,
   "metadata": {},
   "outputs": [
    {
     "data": {
      "text/plain": [
       "array([0, 0, 1, ..., 0, 0, 0])"
      ]
     },
     "execution_count": 8,
     "metadata": {},
     "output_type": "execute_result"
    }
   ],
   "source": [
    "y = labelencoder.fit_transform(spam['Category'])\n",
    "y"
   ]
  },
  {
   "cell_type": "code",
   "execution_count": 20,
   "metadata": {},
   "outputs": [],
   "source": [
    "mensagens = spam['Message'].values\n",
    "x_train,x_test,y_train,y_test = train_test_split(mensagens,y,test_size = 0.3)"
   ]
  },
  {
   "cell_type": "code",
   "execution_count": 21,
   "metadata": {},
   "outputs": [
    {
     "name": "stdout",
     "output_type": "stream",
     "text": [
      "Note: you may need to restart the kernel to use updated packages.\n"
     ]
    },
    {
     "name": "stderr",
     "output_type": "stream",
     "text": [
      "ERROR: Could not find a version that satisfies the requirement CountVectorizer (from versions: none)\n",
      "ERROR: No matching distribution found for CountVectorizer\n"
     ]
    }
   ],
   "source": [
    "pip install CountVectorizer"
   ]
  },
  {
   "cell_type": "code",
   "execution_count": 22,
   "metadata": {},
   "outputs": [
    {
     "name": "stdout",
     "output_type": "stream",
     "text": [
      "[[0 0 0 ... 0 0 0]\n",
      " [0 0 0 ... 0 0 0]\n",
      " [0 0 0 ... 0 0 0]\n",
      " ...\n",
      " [0 0 0 ... 0 0 0]\n",
      " [0 0 0 ... 0 0 0]\n",
      " [0 0 0 ... 0 0 0]]\n"
     ]
    }
   ],
   "source": [
    "vetorizador = CountVectorizer()\n",
    "vetorizador.fit(x_train)\n",
    "x_train = vetorizador.transform(x_train)\n",
    "x_test = vetorizador.transform(x_test)\n",
    "print(x_train.toarray())"
   ]
  },
  {
   "cell_type": "code",
   "execution_count": 24,
   "metadata": {},
   "outputs": [],
   "source": [
    "modelo = Sequential()\n",
    "modelo.add(Dense(units=10,activation='relu',input_dim = x_train.shape[1]))\n",
    "\n",
    "modelo.add(Dropout(0.1))\n",
    "\n",
    "modelo.add(Dense(units=8,activation='relu'))\n",
    "\n",
    "modelo.add(Dropout(0.1))\n",
    "\n",
    "modelo.add(Dense(units=1,activation='sigmoid'))"
   ]
  },
  {
   "cell_type": "code",
   "execution_count": 27,
   "metadata": {},
   "outputs": [
    {
     "name": "stdout",
     "output_type": "stream",
     "text": [
      "Model: \"sequential_1\"\n",
      "_________________________________________________________________\n",
      " Layer (type)                Output Shape              Param #   \n",
      "=================================================================\n",
      " dense_1 (Dense)             (None, 10)                72770     \n",
      "                                                                 \n",
      " dropout_1 (Dropout)         (None, 10)                0         \n",
      "                                                                 \n",
      " dense_2 (Dense)             (None, 8)                 88        \n",
      "                                                                 \n",
      " dropout_2 (Dropout)         (None, 8)                 0         \n",
      "                                                                 \n",
      " dense_3 (Dense)             (None, 1)                 9         \n",
      "                                                                 \n",
      "=================================================================\n",
      "Total params: 72,867\n",
      "Trainable params: 72,867\n",
      "Non-trainable params: 0\n",
      "_________________________________________________________________\n"
     ]
    }
   ],
   "source": [
    "modelo.compile(loss='mean_squared_error',optimizer='adam',metrics=['accuracy'])\n",
    "modelo.summary()"
   ]
  },
  {
   "cell_type": "code",
   "execution_count": 35,
   "metadata": {},
   "outputs": [
    {
     "name": "stdout",
     "output_type": "stream",
     "text": [
      "Epoch 1/20\n",
      "390/390 [==============================] - 1s 2ms/step - loss: 0.0010 - accuracy: 0.9995 - val_loss: 0.0145 - val_accuracy: 0.9833\n",
      "Epoch 2/20\n",
      "390/390 [==============================] - 1s 2ms/step - loss: 0.0012 - accuracy: 0.9992 - val_loss: 0.0143 - val_accuracy: 0.9844\n",
      "Epoch 3/20\n",
      "390/390 [==============================] - 1s 2ms/step - loss: 9.0182e-04 - accuracy: 0.9995 - val_loss: 0.0144 - val_accuracy: 0.9850\n",
      "Epoch 4/20\n",
      "390/390 [==============================] - 1s 2ms/step - loss: 8.3110e-04 - accuracy: 0.9995 - val_loss: 0.0132 - val_accuracy: 0.9844\n",
      "Epoch 5/20\n",
      "390/390 [==============================] - 1s 2ms/step - loss: 8.3541e-04 - accuracy: 0.9995 - val_loss: 0.0127 - val_accuracy: 0.9868\n",
      "Epoch 6/20\n",
      "390/390 [==============================] - 1s 2ms/step - loss: 5.5117e-04 - accuracy: 0.9997 - val_loss: 0.0123 - val_accuracy: 0.9874\n",
      "Epoch 7/20\n",
      "390/390 [==============================] - 1s 2ms/step - loss: 4.6968e-04 - accuracy: 0.9997 - val_loss: 0.0131 - val_accuracy: 0.9856\n",
      "Epoch 8/20\n",
      "390/390 [==============================] - 1s 2ms/step - loss: 5.0343e-04 - accuracy: 0.9997 - val_loss: 0.0127 - val_accuracy: 0.9862\n",
      "Epoch 9/20\n",
      "390/390 [==============================] - 1s 2ms/step - loss: 6.7828e-04 - accuracy: 0.9995 - val_loss: 0.0126 - val_accuracy: 0.9856\n",
      "Epoch 10/20\n",
      "390/390 [==============================] - 1s 2ms/step - loss: 4.2106e-04 - accuracy: 0.9997 - val_loss: 0.0131 - val_accuracy: 0.9856\n",
      "Epoch 11/20\n",
      "390/390 [==============================] - 1s 2ms/step - loss: 6.5479e-04 - accuracy: 0.9995 - val_loss: 0.0133 - val_accuracy: 0.9856\n",
      "Epoch 12/20\n",
      "390/390 [==============================] - 1s 2ms/step - loss: 3.6775e-04 - accuracy: 0.9997 - val_loss: 0.0136 - val_accuracy: 0.9856\n",
      "Epoch 13/20\n",
      "390/390 [==============================] - 1s 2ms/step - loss: 4.0203e-04 - accuracy: 0.9997 - val_loss: 0.0134 - val_accuracy: 0.9844\n",
      "Epoch 14/20\n",
      "390/390 [==============================] - 1s 2ms/step - loss: 4.3991e-04 - accuracy: 0.9997 - val_loss: 0.0138 - val_accuracy: 0.9844\n",
      "Epoch 15/20\n",
      "390/390 [==============================] - 1s 2ms/step - loss: 3.6361e-04 - accuracy: 0.9997 - val_loss: 0.0130 - val_accuracy: 0.9850\n",
      "Epoch 16/20\n",
      "390/390 [==============================] - 1s 2ms/step - loss: 3.0339e-04 - accuracy: 0.9997 - val_loss: 0.0129 - val_accuracy: 0.9850\n",
      "Epoch 17/20\n",
      "390/390 [==============================] - 1s 2ms/step - loss: 3.2297e-04 - accuracy: 0.9997 - val_loss: 0.0123 - val_accuracy: 0.9862\n",
      "Epoch 18/20\n",
      "390/390 [==============================] - 1s 2ms/step - loss: 1.5033e-04 - accuracy: 0.9997 - val_loss: 0.0135 - val_accuracy: 0.9856\n",
      "Epoch 19/20\n",
      "390/390 [==============================] - 1s 2ms/step - loss: 4.7452e-05 - accuracy: 1.0000 - val_loss: 0.0119 - val_accuracy: 0.9880\n",
      "Epoch 20/20\n",
      "390/390 [==============================] - 1s 3ms/step - loss: 6.1195e-05 - accuracy: 1.0000 - val_loss: 0.0122 - val_accuracy: 0.9850\n"
     ]
    },
    {
     "data": {
      "text/plain": [
       "<keras.callbacks.History at 0x1ab5b9782e0>"
      ]
     },
     "execution_count": 35,
     "metadata": {},
     "output_type": "execute_result"
    }
   ],
   "source": [
    "modelo.fit(x_train,y_train,epochs=20,batch_size=10,verbose=True,validation_data=(x_test,y_test))"
   ]
  },
  {
   "cell_type": "code",
   "execution_count": 30,
   "metadata": {},
   "outputs": [
    {
     "name": "stdout",
     "output_type": "stream",
     "text": [
      "53/53 [==============================] - 0s 1ms/step - loss: 0.0146 - accuracy: 0.9833\n",
      "Loss:  0.014608032070100307 \n",
      "Acuracia:  0.9832535982131958\n"
     ]
    }
   ],
   "source": [
    "loss,accuracy = modelo.evaluate(x_test,y_test)\n",
    "print('Loss: ',loss,'\\nAcuracia: ',accuracy)"
   ]
  },
  {
   "cell_type": "code",
   "execution_count": 31,
   "metadata": {},
   "outputs": [
    {
     "name": "stdout",
     "output_type": "stream",
     "text": [
      "53/53 [==============================] - 0s 1ms/step\n",
      "[[1.3186608e-04]\n",
      " [9.9855751e-01]\n",
      " [5.2036374e-04]\n",
      " ...\n",
      " [5.7484875e-05]\n",
      " [1.4979455e-04]\n",
      " [4.9703871e-05]]\n"
     ]
    }
   ],
   "source": [
    "nova_previsao = modelo.predict(x_test)\n",
    "print(nova_previsao)"
   ]
  },
  {
   "cell_type": "code",
   "execution_count": 32,
   "metadata": {},
   "outputs": [
    {
     "data": {
      "text/plain": [
       "array([[False],\n",
       "       [ True],\n",
       "       [False],\n",
       "       ...,\n",
       "       [False],\n",
       "       [False],\n",
       "       [False]])"
      ]
     },
     "execution_count": 32,
     "metadata": {},
     "output_type": "execute_result"
    }
   ],
   "source": [
    "prev=(nova_previsao>0.5)\n",
    "prev"
   ]
  },
  {
   "cell_type": "code",
   "execution_count": 33,
   "metadata": {},
   "outputs": [
    {
     "data": {
      "text/plain": [
       "array([[1450,    4],\n",
       "       [  24,  194]], dtype=int64)"
      ]
     },
     "execution_count": 33,
     "metadata": {},
     "output_type": "execute_result"
    }
   ],
   "source": [
    "cm=confusion_matrix(y_test,prev)\n",
    "cm"
   ]
  },
  {
   "cell_type": "code",
   "execution_count": null,
   "metadata": {},
   "outputs": [],
   "source": []
  }
 ],
 "metadata": {
  "kernelspec": {
   "display_name": "Python 3",
   "language": "python",
   "name": "python3"
  },
  "language_info": {
   "codemirror_mode": {
    "name": "ipython",
    "version": 3
   },
   "file_extension": ".py",
   "mimetype": "text/x-python",
   "name": "python",
   "nbconvert_exporter": "python",
   "pygments_lexer": "ipython3",
   "version": "3.8.3"
  }
 },
 "nbformat": 4,
 "nbformat_minor": 5
}
