{
 "cells": [
  {
   "cell_type": "code",
   "execution_count": 1,
   "id": "652eb360",
   "metadata": {},
   "outputs": [],
   "source": [
    "import pandas as pd\n",
    "import numpy as np\n",
    "from sklearn.model_selection import train_test_split\n",
    "from sklearn.preprocessing import LabelEncoder\n",
    "from keras.models import Sequential\n",
    "from keras.layers import Dense, Embedding,LSTM,SpatialDropout1D\n",
    "from keras_preprocessing.text import Tokenizer\n",
    "from keras_preprocessing.sequence import pad_sequences\n",
    "from keras.utils import np_utils\n"
   ]
  },
  {
   "cell_type": "code",
   "execution_count": 2,
   "id": "155e91fb",
   "metadata": {},
   "outputs": [],
   "source": [
    "Tweets=pd.read_csv('Tweets.csv')"
   ]
  },
  {
   "cell_type": "code",
   "execution_count": 4,
   "id": "8f274b06",
   "metadata": {},
   "outputs": [
    {
     "data": {
      "text/html": [
       "<div>\n",
       "<style scoped>\n",
       "    .dataframe tbody tr th:only-of-type {\n",
       "        vertical-align: middle;\n",
       "    }\n",
       "\n",
       "    .dataframe tbody tr th {\n",
       "        vertical-align: top;\n",
       "    }\n",
       "\n",
       "    .dataframe thead th {\n",
       "        text-align: right;\n",
       "    }\n",
       "</style>\n",
       "<table border=\"1\" class=\"dataframe\">\n",
       "  <thead>\n",
       "    <tr style=\"text-align: right;\">\n",
       "      <th></th>\n",
       "      <th>tweet_id</th>\n",
       "      <th>airline_sentiment</th>\n",
       "      <th>airline_sentiment_confidence</th>\n",
       "      <th>negativereason</th>\n",
       "      <th>negativereason_confidence</th>\n",
       "      <th>airline</th>\n",
       "      <th>airline_sentiment_gold</th>\n",
       "      <th>name</th>\n",
       "      <th>negativereason_gold</th>\n",
       "      <th>retweet_count</th>\n",
       "      <th>text</th>\n",
       "      <th>tweet_coord</th>\n",
       "      <th>tweet_created</th>\n",
       "      <th>tweet_location</th>\n",
       "      <th>user_timezone</th>\n",
       "    </tr>\n",
       "  </thead>\n",
       "  <tbody>\n",
       "    <tr>\n",
       "      <th>0</th>\n",
       "      <td>570306133677760513</td>\n",
       "      <td>neutral</td>\n",
       "      <td>1.0</td>\n",
       "      <td>NaN</td>\n",
       "      <td>NaN</td>\n",
       "      <td>Virgin America</td>\n",
       "      <td>NaN</td>\n",
       "      <td>cairdin</td>\n",
       "      <td>NaN</td>\n",
       "      <td>0</td>\n",
       "      <td>@VirginAmerica What @dhepburn said.</td>\n",
       "      <td>NaN</td>\n",
       "      <td>2015-02-24 11:35:52 -0800</td>\n",
       "      <td>NaN</td>\n",
       "      <td>Eastern Time (US &amp; Canada)</td>\n",
       "    </tr>\n",
       "  </tbody>\n",
       "</table>\n",
       "</div>"
      ],
      "text/plain": [
       "             tweet_id airline_sentiment  ...  tweet_location               user_timezone\n",
       "0  570306133677760513           neutral  ...             NaN  Eastern Time (US & Canada)\n",
       "\n",
       "[1 rows x 15 columns]"
      ]
     },
     "execution_count": 4,
     "metadata": {},
     "output_type": "execute_result"
    }
   ],
   "source": [
    "Tweets.head(1)"
   ]
  },
  {
   "cell_type": "code",
   "execution_count": 8,
   "id": "d546eade",
   "metadata": {},
   "outputs": [
    {
     "data": {
      "text/plain": [
       "airline_sentiment\n",
       "negative    9178\n",
       "neutral     3099\n",
       "positive    2363\n",
       "dtype: int64"
      ]
     },
     "execution_count": 8,
     "metadata": {},
     "output_type": "execute_result"
    }
   ],
   "source": [
    "Tweets.groupby(['airline_sentiment']).size()"
   ]
  },
  {
   "cell_type": "code",
   "execution_count": 9,
   "id": "25f9e395",
   "metadata": {},
   "outputs": [],
   "source": [
    "Tweets = Tweets[Tweets['airline_sentiment_confidence']>0.8]"
   ]
  },
  {
   "cell_type": "code",
   "execution_count": 10,
   "id": "2c51b8ea",
   "metadata": {},
   "outputs": [],
   "source": [
    "token = Tokenizer(num_words = 100)\n",
    "token.fit_on_texts(Tweets['text'].values)"
   ]
  },
  {
   "cell_type": "code",
   "execution_count": 12,
   "id": "233e8341",
   "metadata": {},
   "outputs": [],
   "source": [
    "x=token.texts_to_sequences(Tweets['text'].values)\n",
    "x = pad_sequences(x,padding='post',maxlen = 100)"
   ]
  },
  {
   "cell_type": "code",
   "execution_count": 13,
   "id": "e51f385a",
   "metadata": {},
   "outputs": [
    {
     "name": "stdout",
     "output_type": "stream",
     "text": [
      "[[97 62  0 ...  0  0  0]\n",
      " [97 99  1 ...  0  0  0]\n",
      " [97  9 99 ...  0  0  0]\n",
      " ...\n",
      " [13 98 93 ...  0  0  0]\n",
      " [13 89  1 ...  0  0  0]\n",
      " [13  6 23 ...  0  0  0]]\n"
     ]
    }
   ],
   "source": [
    "print(x)"
   ]
  },
  {
   "cell_type": "code",
   "execution_count": 14,
   "id": "38d6553e",
   "metadata": {},
   "outputs": [
    {
     "name": "stdout",
     "output_type": "stream",
     "text": [
      "[1 0 0 ... 0 1 0]\n"
     ]
    }
   ],
   "source": [
    "labelencoder = LabelEncoder()\n",
    "y = labelencoder.fit_transform(Tweets['airline_sentiment'])\n",
    "print(y)"
   ]
  },
  {
   "cell_type": "code",
   "execution_count": 15,
   "id": "225bc78e",
   "metadata": {},
   "outputs": [
    {
     "name": "stdout",
     "output_type": "stream",
     "text": [
      "[[0. 1. 0.]\n",
      " [1. 0. 0.]\n",
      " [1. 0. 0.]\n",
      " ...\n",
      " [1. 0. 0.]\n",
      " [0. 1. 0.]\n",
      " [1. 0. 0.]]\n"
     ]
    }
   ],
   "source": [
    "y = np_utils.to_categorical(y)\n",
    "print(y)"
   ]
  },
  {
   "cell_type": "code",
   "execution_count": 18,
   "id": "96c58210",
   "metadata": {},
   "outputs": [],
   "source": [
    "x_train,xtest,y_train,ytest = train_test_split(x, y, test_size=0.3,random_state=0)"
   ]
  },
  {
   "cell_type": "code",
   "execution_count": 19,
   "id": "68927d29",
   "metadata": {},
   "outputs": [
    {
     "data": {
      "text/plain": [
       "array([[16, 14, 36, ...,  0,  0,  0],\n",
       "       [13, 79, 38, ...,  0,  0,  0],\n",
       "       [ 8, 10, 17, ...,  0,  0,  0],\n",
       "       ...,\n",
       "       [16, 14, 57, ...,  0,  0,  0],\n",
       "       [16, 20, 92, ...,  0,  0,  0],\n",
       "       [16, 80, 26, ...,  0,  0,  0]])"
      ]
     },
     "execution_count": 19,
     "metadata": {},
     "output_type": "execute_result"
    }
   ],
   "source": [
    "xtest"
   ]
  },
  {
   "cell_type": "code",
   "execution_count": 23,
   "id": "6ae01788",
   "metadata": {},
   "outputs": [],
   "source": [
    "modelo = Sequential()\n",
    "\n",
    "modelo.add(Embedding(input_dim=len(token.word_index),output_dim = 128,input_length= x.shape[1]))\n",
    "\n",
    "modelo.add(SpatialDropout1D(0.2))\n",
    "#units = quantidade de neuronio\n",
    "modelo.add(LSTM(units = 196,dropout=0.2,recurrent_dropout=0,activation='tanh',recurrent_activation='sigmoid',unroll=False,use_bias=True))\n",
    "\n",
    "modelo.add(Dense(units=3,activation='softmax'))"
   ]
  },
  {
   "cell_type": "code",
   "execution_count": 24,
   "id": "0fa2eeb4",
   "metadata": {},
   "outputs": [
    {
     "name": "stdout",
     "output_type": "stream",
     "text": [
      "Model: \"sequential_2\"\n",
      "_________________________________________________________________\n",
      " Layer (type)                Output Shape              Param #   \n",
      "=================================================================\n",
      " embedding (Embedding)       (None, 100, 128)          1638656   \n",
      "                                                                 \n",
      " spatial_dropout1d (SpatialD  (None, 100, 128)         0         \n",
      " ropout1D)                                                       \n",
      "                                                                 \n",
      " lstm (LSTM)                 (None, 196)               254800    \n",
      "                                                                 \n",
      " dense (Dense)               (None, 3)                 591       \n",
      "                                                                 \n",
      "=================================================================\n",
      "Total params: 1,894,047\n",
      "Trainable params: 1,894,047\n",
      "Non-trainable params: 0\n",
      "_________________________________________________________________\n"
     ]
    }
   ],
   "source": [
    "modelo.summary()"
   ]
  },
  {
   "cell_type": "code",
   "execution_count": 26,
   "id": "ca57ef4e",
   "metadata": {},
   "outputs": [],
   "source": [
    "modelo.compile(loss='categorical_crossentropy', optimizer='adam',metrics=['accuracy'])"
   ]
  },
  {
   "cell_type": "code",
   "execution_count": 27,
   "id": "6c2bea9f",
   "metadata": {},
   "outputs": [
    {
     "name": "stdout",
     "output_type": "stream",
     "text": [
      "Epoch 1/10\n",
      "245/245 [==============================] - 39s 152ms/step - loss: 0.8161 - accuracy: 0.7061 - val_loss: 0.8153 - val_accuracy: 0.7027\n",
      "Epoch 2/10\n",
      "245/245 [==============================] - 35s 145ms/step - loss: 0.8087 - accuracy: 0.7085 - val_loss: 0.8184 - val_accuracy: 0.7027\n",
      "Epoch 3/10\n",
      "245/245 [==============================] - 36s 146ms/step - loss: 0.8082 - accuracy: 0.7085 - val_loss: 0.8202 - val_accuracy: 0.7027\n",
      "Epoch 4/10\n",
      "245/245 [==============================] - 36s 146ms/step - loss: 0.8078 - accuracy: 0.7085 - val_loss: 0.8215 - val_accuracy: 0.7027\n",
      "Epoch 5/10\n",
      "245/245 [==============================] - 39s 160ms/step - loss: 0.8084 - accuracy: 0.7085 - val_loss: 0.8156 - val_accuracy: 0.7027\n",
      "Epoch 6/10\n",
      "245/245 [==============================] - 37s 150ms/step - loss: 0.8077 - accuracy: 0.7085 - val_loss: 0.8167 - val_accuracy: 0.7027\n",
      "Epoch 7/10\n",
      "245/245 [==============================] - 35s 143ms/step - loss: 0.8075 - accuracy: 0.7085 - val_loss: 0.8176 - val_accuracy: 0.7027\n",
      "Epoch 8/10\n",
      "245/245 [==============================] - 36s 145ms/step - loss: 0.8086 - accuracy: 0.7085 - val_loss: 0.8157 - val_accuracy: 0.7027\n",
      "Epoch 9/10\n",
      "245/245 [==============================] - 33s 135ms/step - loss: 0.8075 - accuracy: 0.7085 - val_loss: 0.8190 - val_accuracy: 0.7027\n",
      "Epoch 10/10\n",
      "245/245 [==============================] - 33s 135ms/step - loss: 0.8061 - accuracy: 0.7085 - val_loss: 0.8164 - val_accuracy: 0.7027\n"
     ]
    },
    {
     "data": {
      "text/plain": [
       "<keras.callbacks.History at 0x2707e7e68b0>"
      ]
     },
     "execution_count": 27,
     "metadata": {},
     "output_type": "execute_result"
    }
   ],
   "source": [
    "modelo.fit(x_train,y_train,epochs=10,batch_size=30,verbose=True,validation_data=(xtest,ytest))"
   ]
  },
  {
   "cell_type": "code",
   "execution_count": 30,
   "id": "406277ed",
   "metadata": {},
   "outputs": [
    {
     "name": "stdout",
     "output_type": "stream",
     "text": [
      "99/99 [==============================] - 3s 27ms/step - loss: 0.8164 - accuracy: 0.7027\n",
      "loss:  0.8164207935333252 \n",
      " acuracia:  0.7026768922805786\n"
     ]
    }
   ],
   "source": [
    "loss,accuracy = modelo.evaluate(xtest, ytest)\n",
    "print(\"loss: \", loss,'\\n','acuracia: ',accuracy)"
   ]
  },
  {
   "cell_type": "code",
   "execution_count": 31,
   "id": "658e83da",
   "metadata": {},
   "outputs": [
    {
     "name": "stdout",
     "output_type": "stream",
     "text": [
      "99/99 [==============================] - 3s 27ms/step\n"
     ]
    },
    {
     "data": {
      "text/plain": [
       "array([[0.7255598 , 0.13461064, 0.13982959],\n",
       "       [0.7255597 , 0.13461064, 0.1398296 ],\n",
       "       [0.7255598 , 0.13461064, 0.13982959],\n",
       "       ...,\n",
       "       [0.7255598 , 0.13461064, 0.13982959],\n",
       "       [0.7255598 , 0.13461064, 0.13982959],\n",
       "       [0.7255597 , 0.13461064, 0.1398296 ]], dtype=float32)"
      ]
     },
     "execution_count": 31,
     "metadata": {},
     "output_type": "execute_result"
    }
   ],
   "source": [
    "prev = modelo.predict(xtest)\n",
    "prev"
   ]
  },
  {
   "cell_type": "code",
   "execution_count": null,
   "id": "997248e2",
   "metadata": {},
   "outputs": [],
   "source": []
  },
  {
   "cell_type": "code",
   "execution_count": null,
   "id": "041aaa3b",
   "metadata": {},
   "outputs": [],
   "source": []
  }
 ],
 "metadata": {
  "kernelspec": {
   "display_name": "Python 3 (ipykernel)",
   "language": "python",
   "name": "python3"
  },
  "language_info": {
   "codemirror_mode": {
    "name": "ipython",
    "version": 3
   },
   "file_extension": ".py",
   "mimetype": "text/x-python",
   "name": "python",
   "nbconvert_exporter": "python",
   "pygments_lexer": "ipython3",
   "version": "3.9.7"
  }
 },
 "nbformat": 4,
 "nbformat_minor": 5
}
