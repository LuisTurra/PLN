{
 "cells": [
  {
   "cell_type": "code",
   "execution_count": 3,
   "id": "c7f39d0e",
   "metadata": {},
   "outputs": [
    {
     "name": "stderr",
     "output_type": "stream",
     "text": [
      "[nltk_data] Downloading package mac_morpho to\n",
      "[nltk_data]     C:\\Users\\cd202-10\\AppData\\Roaming\\nltk_data...\n",
      "[nltk_data]   Unzipping corpora\\mac_morpho.zip.\n"
     ]
    },
    {
     "data": {
      "text/plain": [
       "True"
      ]
     },
     "execution_count": 3,
     "metadata": {},
     "output_type": "execute_result"
    }
   ],
   "source": [
    "import nltk\n",
    "from nltk.corpus import mac_morpho\n",
    "nltk.download('mac_morpho')"
   ]
  },
  {
   "cell_type": "markdown",
   "id": "b72c23b1",
   "metadata": {},
   "source": [
    "# Slide 21 e 22"
   ]
  },
  {
   "cell_type": "code",
   "execution_count": 17,
   "id": "e77263eb",
   "metadata": {},
   "outputs": [],
   "source": [
    "sentencas_etiquetadas = mac_morpho.tagged_sents()"
   ]
  },
  {
   "cell_type": "code",
   "execution_count": 20,
   "id": "ac0900b3",
   "metadata": {},
   "outputs": [
    {
     "data": {
      "text/plain": [
       "'N'"
      ]
     },
     "execution_count": 20,
     "metadata": {},
     "output_type": "execute_result"
    }
   ],
   "source": [
    "tags=[tag for (word,tag) in mac_morpho.tagged_words()]\n",
    "nltk.FreqDist(tags).max()"
   ]
  },
  {
   "cell_type": "code",
   "execution_count": 22,
   "id": "82544781",
   "metadata": {},
   "outputs": [
    {
     "name": "stderr",
     "output_type": "stream",
     "text": [
      "[nltk_data] Downloading package punkt to\n",
      "[nltk_data]     C:\\Users\\cd202-10\\AppData\\Roaming\\nltk_data...\n",
      "[nltk_data]   Package punkt is already up-to-date!\n"
     ]
    },
    {
     "data": {
      "text/plain": [
       "True"
      ]
     },
     "execution_count": 22,
     "metadata": {},
     "output_type": "execute_result"
    }
   ],
   "source": [
    "nltk.download('punkt')"
   ]
  },
  {
   "cell_type": "code",
   "execution_count": 24,
   "id": "a14031c2",
   "metadata": {},
   "outputs": [
    {
     "data": {
      "text/plain": [
       "[('Amanha', 'N'),\n",
       " ('sera', 'N'),\n",
       " ('um', 'N'),\n",
       " ('lindo', 'N'),\n",
       " ('dia', 'N'),\n",
       " ('da', 'N'),\n",
       " ('mais', 'N'),\n",
       " ('louca', 'N'),\n",
       " ('alegria', 'N'),\n",
       " ('do', 'N'),\n",
       " ('que', 'N'),\n",
       " ('se', 'N'),\n",
       " ('possa', 'N'),\n",
       " ('imaginar', 'N'),\n",
       " ('.', 'N')]"
      ]
     },
     "execution_count": 24,
     "metadata": {},
     "output_type": "execute_result"
    }
   ],
   "source": [
    "texto = 'Amanha sera um lindo dia da mais louca alegria do que se possa imaginar.'\n",
    "tokens=nltk.word_tokenize(texto)\n",
    "etiqPadrao = nltk.tag.DefaultTagger('N')\n",
    "etiqPadrao.tag(tokens)"
   ]
  },
  {
   "cell_type": "code",
   "execution_count": 25,
   "id": "fda45d2b",
   "metadata": {},
   "outputs": [],
   "source": [
    "prop = int(0.2*len(mac_morpho.tagged_sents()))\n",
    "treino = mac_morpho.tagged_sents()[prop:]\n",
    "teste = mac_morpho.tagged_sents()[:prop]"
   ]
  },
  {
   "cell_type": "code",
   "execution_count": 27,
   "id": "06c423bc",
   "metadata": {},
   "outputs": [
    {
     "name": "stdout",
     "output_type": "stream",
     "text": [
      "BASIC Tagger 0.2060009290177828\n"
     ]
    }
   ],
   "source": [
    "etiq1=nltk.DefaultTagger('N')\n",
    "print(\"BASIC Tagger\",etiq1.evaluate(teste))"
   ]
  },
  {
   "cell_type": "code",
   "execution_count": 28,
   "id": "28367658",
   "metadata": {},
   "outputs": [
    {
     "name": "stdout",
     "output_type": "stream",
     "text": [
      "UNIGRAM Tagger:  0.8332632187836878\n"
     ]
    }
   ],
   "source": [
    "etiq2=nltk.UnigramTagger(treino,backoff=etiq1)\n",
    "print('UNIGRAM Tagger: ',etiq2.evaluate(teste))"
   ]
  },
  {
   "cell_type": "code",
   "execution_count": 29,
   "id": "cb79561d",
   "metadata": {},
   "outputs": [
    {
     "name": "stdout",
     "output_type": "stream",
     "text": [
      "BIGRAM Tagger:  0.8496875520381423\n",
      "[('Amanha', 'N'), ('sera', 'N'), ('um', 'ART'), ('lindo', 'ADJ'), ('dia', 'N'), ('da', 'N'), ('mais', 'ADV'), ('louca', 'ADJ'), ('alegria', 'N'), ('do', 'KS'), ('que', 'KS'), ('se', 'PROPESS'), ('possa', 'VAUX'), ('imaginar', 'V'), ('.', '.')]\n"
     ]
    }
   ],
   "source": [
    "etiq3=nltk.BigramTagger(treino,backoff=etiq2)\n",
    "print('BIGRAM Tagger: ',etiq3.evaluate(teste))\n",
    "print(etiq3.tag(tokens))"
   ]
  },
  {
   "cell_type": "markdown",
   "id": "be4273d3",
   "metadata": {},
   "source": [
    "# Atividade aula 05"
   ]
  },
  {
   "cell_type": "code",
   "execution_count": 45,
   "id": "1738e6f3",
   "metadata": {},
   "outputs": [],
   "source": [
    "texto = '''Um terremoto de magnitude 7,6 atingiu a costa oeste do México nesta segunda-feira (19) e danificou prédios, causou cortes de energia e fez com que moradores da Cidade do México tivessem que ir às ruas por segurança.\n",
    "O Sistema de Alerta de Tsunami dos EUA disse que há possibilidade de um tsunami perto da costa de Michoacán, no Oceano Pacífico, com risco de ondas de 1 a 3 metros de altura.\n",
    "O tremor atingiu a costa oeste do país, na região de divisa dos estados de Michoacán e Colima, pouco depois das 13h no horário local (15h em Brasília). O terremoto foi a uma profundidade de cerca de 15 km. O registro foi feito pelo Serviço Geológico dos EUA. O serviço europeu marcou a mesma magnitude.\n",
    "O presidente Andrés Manuel López Obrador disse em um discurso em vídeo que uma pessoa morreu no porto de Manzanillo, no Pacífico, depois que um muro de uma loja caiu.\n",
    "O alerta de terremoto soou quase dois minutos antes do tremor, o que deu tempo para os moradores saírem de suas casas.'''\n",
    "\n",
    "tokens=nltk.word_tokenize(texto)\n"
   ]
  },
  {
   "cell_type": "code",
   "execution_count": 46,
   "id": "4c70f62b",
   "metadata": {},
   "outputs": [],
   "source": [
    "### 30% para teste e 70 para treino\n",
    "prop = int(0.3*len(mac_morpho.tagged_sents()))\n",
    "treino = mac_morpho.tagged_sents()[prop:]\n",
    "teste = mac_morpho.tagged_sents()[:prop]"
   ]
  },
  {
   "cell_type": "code",
   "execution_count": 47,
   "id": "ace682e6",
   "metadata": {},
   "outputs": [],
   "source": [
    "etiq2=nltk.UnigramTagger(treino)"
   ]
  },
  {
   "cell_type": "code",
   "execution_count": 48,
   "id": "d15c47e2",
   "metadata": {},
   "outputs": [],
   "source": [
    "etiq3=nltk.BigramTagger(treino,backoff=etiq2)"
   ]
  },
  {
   "cell_type": "code",
   "execution_count": 49,
   "id": "75197638",
   "metadata": {},
   "outputs": [],
   "source": [
    "etiq4=nltk.TrigramTagger(treino,backoff=etiq3)"
   ]
  },
  {
   "cell_type": "code",
   "execution_count": 50,
   "id": "dc57cc87",
   "metadata": {},
   "outputs": [
    {
     "name": "stdout",
     "output_type": "stream",
     "text": [
      "UNIGRAM Tagger:  0.8136453107194127\n",
      "BIGRAM Tagger:  0.8333880921724459\n",
      "TriGRAM Tagger:  0.8338942414420815\n"
     ]
    }
   ],
   "source": [
    "print('UNIGRAM Tagger: ',etiq2.evaluate(teste))\n",
    "print('BIGRAM Tagger: ',etiq3.evaluate(teste))\n",
    "print('TriGRAM Tagger: ',etiq4.evaluate(teste))"
   ]
  },
  {
   "cell_type": "markdown",
   "id": "f08374bd",
   "metadata": {},
   "source": [
    "# O algoritmo Trigram teve um resultado maior que Unigram, porem foi levemente superior ao Bigram"
   ]
  },
  {
   "cell_type": "code",
   "execution_count": 44,
   "id": "41c9338e",
   "metadata": {
    "scrolled": false
   },
   "outputs": [
    {
     "name": "stdout",
     "output_type": "stream",
     "text": [
      "[('Um', 'ART'), ('terremoto', None), ('de', 'PREP'), ('magnitude', 'N'), ('7,6', 'NUM'), ('atingiu', 'V'), ('a', 'ART'), ('costa', 'N'), ('oeste', 'N'), ('do', 'N'), ('México', 'NPROP'), ('nesta', None), ('segunda-feira', 'N'), ('(', '('), ('19', 'N'), (')', ')'), ('e', 'KC'), ('danificou', 'V'), ('prédios', 'N'), (',', ','), ('causou', 'V'), ('cortes', 'N'), ('de', 'PREP'), ('energia', 'N'), ('e', 'KC'), ('fez', 'V'), ('com', 'PREP'), ('que', 'KS'), ('moradores', 'N'), ('da', 'N'), ('Cidade', 'NPROP'), ('do', 'NPROP'), ('México', 'NPROP'), ('tivessem', 'VAUX'), ('que', 'KS'), ('ir', 'V'), ('às', 'ADV'), ('ruas', 'N'), ('por', 'PREP|+'), ('segurança', 'N'), ('.', '.'), ('O', 'ART'), ('Sistema', 'NPROP'), ('de', 'NPROP'), ('Alerta', 'NPROP'), ('de', 'NPROP'), ('Tsunami', None), ('dos', 'NPROP'), ('EUA', 'NPROP'), ('disse', 'V'), ('que', 'KS'), ('há', 'V'), ('possibilidade', 'N'), ('de', 'PREP'), ('um', 'ART'), ('tsunami', None), ('perto', 'PREP|+'), ('da', 'NPROP'), ('costa', 'N'), ('de', 'PREP|+'), ('Michoacán', None), (',', ','), ('no', 'KC'), ('Oceano', 'NPROP'), ('Pacífico', 'NPROP'), (',', ','), ('com', 'PREP'), ('risco', 'N'), ('de', 'PREP'), ('ondas', 'N'), ('de', 'PREP'), ('1', 'N'), ('a', 'PREP'), ('3', 'N'), ('metros', 'N'), ('de', 'PREP'), ('altura', 'N'), ('.', '.'), ('O', 'ART'), ('tremor', 'N'), ('atingiu', 'V'), ('a', 'ART'), ('costa', 'N'), ('oeste', 'N'), ('do', 'N'), ('país', 'N'), (',', ','), ('na', 'KS'), ('região', 'N'), ('de', 'PREP'), ('divisa', 'N'), ('dos', 'N'), ('estados', 'N'), ('de', 'PREP'), ('Michoacán', None), ('e', 'KC'), ('Colima', None), (',', ','), ('pouco', 'ADV'), ('depois', 'PREP|+'), ('das', 'NPROP'), ('13h', 'N|HOR'), ('no', 'KC'), ('horário', 'N'), ('local', 'ADJ'), ('(', '('), ('15h', 'N|HOR'), ('em', 'PREP'), ('Brasília', 'NPROP'), (')', ')'), ('.', '.'), ('O', 'ART'), ('terremoto', None), ('foi', 'V'), ('a', 'ART'), ('uma', 'PROSUB'), ('profundidade', 'N'), ('de', 'PREP'), ('cerca', 'PREP'), ('de', 'PREP'), ('15', 'NUM'), ('km', 'N'), ('.', '.'), ('O', 'ART'), ('registro', 'N'), ('foi', 'VAUX'), ('feito', 'PCP'), ('pelo', 'PDEN'), ('Serviço', 'NPROP'), ('Geológico', None), ('dos', 'NPROP'), ('EUA', 'NPROP'), ('.', '.'), ('O', 'ART'), ('serviço', 'N'), ('europeu', 'ADJ'), ('marcou', 'V'), ('a', 'ART'), ('mesma', 'PROADJ'), ('magnitude', 'N'), ('.', '.'), ('O', 'ART'), ('presidente', 'N'), ('Andrés', 'NPROP'), ('Manuel', 'NPROP'), ('López', 'NPROP'), ('Obrador', None), ('disse', 'V'), ('em', 'PREP|+'), ('um', 'ART'), ('discurso', 'N'), ('em', 'PREP|+'), ('vídeo', 'N'), ('que', 'PRO-KS-REL'), ('uma', 'ART'), ('pessoa', 'N'), ('morreu', 'V'), ('no', 'KC'), ('porto', 'N'), ('de', 'PREP'), ('Manzanillo', None), (',', ','), ('no', 'KC'), ('Pacífico', 'NPROP'), (',', ','), ('depois', 'ADV'), ('que', 'KS'), ('um', 'ART'), ('muro', 'N'), ('de', 'PREP|+'), ('uma', 'ART'), ('loja', 'N'), ('caiu', 'V'), ('.', '.'), ('O', 'ART'), ('alerta', 'N'), ('de', 'PREP|+'), ('terremoto', None), ('soou', None), ('quase', 'ADV'), ('dois', 'NUM'), ('minutos', 'N'), ('antes', 'ADV'), ('do', 'KS'), ('tremor', 'N'), (',', ','), ('o', 'ART'), ('que', 'PRO-KS-REL'), ('deu', 'V'), ('tempo', 'N'), ('para', 'PREP'), ('os', 'ART'), ('moradores', 'N'), ('saírem', 'V'), ('de', 'PREP'), ('suas', 'PROADJ'), ('casas', 'N'), ('.', '.')]\n"
     ]
    }
   ],
   "source": [
    "print(etiq4.tag(tokens))"
   ]
  },
  {
   "cell_type": "code",
   "execution_count": 62,
   "id": "e970430e",
   "metadata": {},
   "outputs": [
    {
     "name": "stdout",
     "output_type": "stream",
     "text": [
      "('Um', 'ART') ('Um', 'ART') ('Um', 'ART')\n",
      "('terremoto', None) ('terremoto', None) ('terremoto', None)\n",
      "('de', 'PREP') ('de', 'PREP') ('de', 'PREP')\n",
      "('magnitude', 'N') ('magnitude', 'N') ('magnitude', 'N')\n",
      "('7,6', 'NUM') ('7,6', 'NUM') ('7,6', 'NUM')\n",
      "('atingiu', 'V') ('atingiu', 'V') ('atingiu', 'V')\n",
      "('a', 'ART') ('a', 'ART') ('a', 'ART')\n",
      "('costa', 'N') ('costa', 'N') ('costa', 'N')\n",
      "('oeste', 'N') ('oeste', 'ADJ') ('oeste', 'N')\n",
      "('do', 'NPROP') ('do', 'KS') ('do', 'N')\n",
      "('México', 'NPROP') ('México', 'NPROP') ('México', 'NPROP')\n",
      "('nesta', None) ('nesta', None) ('nesta', None)\n",
      "('segunda-feira', 'N') ('segunda-feira', 'N') ('segunda-feira', 'N')\n",
      "('(', '(') ('(', '(') ('(', '(')\n",
      "('19', 'N|AP') ('19', 'N') ('19', 'N')\n",
      "(')', ')') (')', ')') (')', ')')\n",
      "('e', 'KC') ('e', 'KC') ('e', 'KC')\n",
      "('danificou', 'V') ('danificou', 'V') ('danificou', 'V')\n",
      "('prédios', 'N') ('prédios', 'N') ('prédios', 'N')\n",
      "(',', ',') (',', ',') (',', ',')\n",
      "('causou', 'V') ('causou', 'V') ('causou', 'V')\n",
      "('cortes', 'N') ('cortes', 'N') ('cortes', 'N')\n",
      "('de', 'PREP') ('de', 'PREP') ('de', 'PREP')\n",
      "('energia', 'N') ('energia', 'N') ('energia', 'N')\n",
      "('e', 'KC') ('e', 'KC') ('e', 'KC')\n",
      "('fez', 'V') ('fez', 'V') ('fez', 'V')\n",
      "('com', 'PREP') ('com', 'PREP') ('com', 'PREP')\n",
      "('que', 'PRO-KS-REL') ('que', 'PRO-KS-REL') ('que', 'KS')\n",
      "('moradores', 'N') ('moradores', 'N') ('moradores', 'N')\n",
      "('da', 'NPROP') ('da', 'N') ('da', 'N')\n",
      "('Cidade', 'NPROP') ('Cidade', 'NPROP') ('Cidade', 'NPROP')\n",
      "('do', 'NPROP') ('do', 'NPROP') ('do', 'NPROP')\n",
      "('México', 'NPROP') ('México', 'NPROP') ('México', 'NPROP')\n",
      "('tivessem', 'V') ('tivessem', 'VAUX') ('tivessem', 'VAUX')\n",
      "('que', 'PRO-KS-REL') ('que', 'KS') ('que', 'KS')\n",
      "('ir', 'V') ('ir', 'V') ('ir', 'V')\n",
      "('às', 'ADV') ('às', 'ADV') ('às', 'ADV')\n",
      "('ruas', 'N') ('ruas', 'N') ('ruas', 'N')\n",
      "('por', 'PREP|+') ('por', 'PREP') ('por', 'PREP|+')\n",
      "('segurança', 'N') ('segurança', 'N') ('segurança', 'N')\n",
      "('.', '.') ('.', '.') ('.', '.')\n",
      "('O', 'ART') ('O', 'ART') ('O', 'ART')\n",
      "('Sistema', 'NPROP') ('Sistema', 'NPROP') ('Sistema', 'NPROP')\n",
      "('de', 'PREP') ('de', 'NPROP') ('de', 'NPROP')\n",
      "('Alerta', 'NPROP') ('Alerta', 'NPROP') ('Alerta', 'NPROP')\n",
      "('de', 'PREP') ('de', 'NPROP') ('de', 'NPROP')\n",
      "('Tsunami', None) ('Tsunami', None) ('Tsunami', None)\n",
      "('dos', 'NPROP') ('dos', 'NPROP') ('dos', 'NPROP')\n",
      "('EUA', 'NPROP') ('EUA', 'NPROP') ('EUA', 'NPROP')\n",
      "('disse', 'V') ('disse', 'V') ('disse', 'V')\n",
      "('que', 'PRO-KS-REL') ('que', 'KS') ('que', 'KS')\n",
      "('há', 'V') ('há', 'V') ('há', 'V')\n",
      "('possibilidade', 'N') ('possibilidade', 'N') ('possibilidade', 'N')\n",
      "('de', 'PREP') ('de', 'PREP') ('de', 'PREP')\n",
      "('um', 'ART') ('um', 'ART') ('um', 'ART')\n",
      "('tsunami', None) ('tsunami', None) ('tsunami', None)\n",
      "('perto', 'PREP|+') ('perto', 'PREP|+') ('perto', 'PREP|+')\n",
      "('da', 'NPROP') ('da', 'NPROP') ('da', 'NPROP')\n",
      "('costa', 'N') ('costa', 'N') ('costa', 'N')\n",
      "('de', 'PREP') ('de', 'PREP') ('de', 'PREP|+')\n",
      "('Michoacán', None) ('Michoacán', None) ('Michoacán', None)\n",
      "(',', ',') (',', ',') (',', ',')\n",
      "('no', 'KC') ('no', 'KC') ('no', 'KC')\n",
      "('Oceano', 'NPROP') ('Oceano', 'NPROP') ('Oceano', 'NPROP')\n",
      "('Pacífico', 'NPROP') ('Pacífico', 'NPROP') ('Pacífico', 'NPROP')\n",
      "(',', ',') (',', ',') (',', ',')\n",
      "('com', 'PREP') ('com', 'PREP') ('com', 'PREP')\n",
      "('risco', 'N') ('risco', 'N') ('risco', 'N')\n",
      "('de', 'PREP') ('de', 'PREP') ('de', 'PREP')\n",
      "('ondas', 'N') ('ondas', 'N') ('ondas', 'N')\n",
      "('de', 'PREP') ('de', 'PREP') ('de', 'PREP')\n",
      "('1', 'N') ('1', 'N') ('1', 'N')\n",
      "('a', 'ART') ('a', 'PREP|+') ('a', 'PREP')\n",
      "('3', 'NUM') ('3', 'NUM') ('3', 'N')\n",
      "('metros', 'N') ('metros', 'N') ('metros', 'N')\n",
      "('de', 'PREP') ('de', 'PREP') ('de', 'PREP')\n",
      "('altura', 'N') ('altura', 'N') ('altura', 'N')\n",
      "('.', '.') ('.', '.') ('.', '.')\n",
      "('O', 'ART') ('O', 'ART') ('O', 'ART')\n",
      "('tremor', 'N') ('tremor', 'N') ('tremor', 'N')\n",
      "('atingiu', 'V') ('atingiu', 'V') ('atingiu', 'V')\n",
      "('a', 'ART') ('a', 'ART') ('a', 'ART')\n",
      "('costa', 'N') ('costa', 'N') ('costa', 'N')\n",
      "('oeste', 'N') ('oeste', 'ADJ') ('oeste', 'N')\n",
      "('do', 'NPROP') ('do', 'KS') ('do', 'N')\n",
      "('país', 'N') ('país', 'N') ('país', 'N')\n",
      "(',', ',') (',', ',') (',', ',')\n",
      "('na', 'NPROP') ('na', 'KS') ('na', 'KS')\n",
      "('região', 'N') ('região', 'N') ('região', 'N')\n",
      "('de', 'PREP') ('de', 'PREP') ('de', 'PREP')\n",
      "('divisa', 'N') ('divisa', 'N') ('divisa', 'N')\n",
      "('dos', 'NPROP') ('dos', 'N') ('dos', 'N')\n",
      "('estados', 'N') ('estados', 'N') ('estados', 'N')\n",
      "('de', 'PREP') ('de', 'PREP') ('de', 'PREP')\n",
      "('Michoacán', None) ('Michoacán', None) ('Michoacán', None)\n",
      "('e', 'KC') ('e', 'KC') ('e', 'KC')\n",
      "('Colima', None) ('Colima', None) ('Colima', None)\n",
      "(',', ',') (',', ',') (',', ',')\n",
      "('pouco', 'ADV') ('pouco', 'ADV') ('pouco', 'ADV')\n",
      "('depois', 'ADV') ('depois', 'ADV') ('depois', 'PREP|+')\n",
      "('das', 'NPROP') ('das', 'NPROP') ('das', 'NPROP')\n",
      "('13h', 'N|HOR') ('13h', 'N|HOR') ('13h', 'N|HOR')\n",
      "('no', 'KC') ('no', 'KC') ('no', 'KC')\n",
      "('horário', 'N') ('horário', 'N') ('horário', 'N')\n",
      "('local', 'ADJ') ('local', 'ADJ') ('local', 'ADJ')\n",
      "('(', '(') ('(', '(') ('(', '(')\n",
      "('15h', 'N|HOR') ('15h', 'N|HOR') ('15h', 'N|HOR')\n",
      "('em', 'PREP|+') ('em', 'PREP|+') ('em', 'PREP')\n",
      "('Brasília', 'NPROP') ('Brasília', 'NPROP') ('Brasília', 'NPROP')\n",
      "(')', ')') (')', ')') (')', ')')\n",
      "('.', '.') ('.', '.') ('.', '.')\n",
      "('O', 'ART') ('O', 'ART') ('O', 'ART')\n",
      "('terremoto', None) ('terremoto', None) ('terremoto', None)\n",
      "('foi', 'V') ('foi', 'V') ('foi', 'V')\n",
      "('a', 'ART') ('a', 'ART') ('a', 'ART')\n",
      "('uma', 'ART') ('uma', 'PROSUB') ('uma', 'PROSUB')\n",
      "('profundidade', 'N') ('profundidade', 'N') ('profundidade', 'N')\n",
      "('de', 'PREP') ('de', 'PREP') ('de', 'PREP')\n",
      "('cerca', 'PREP') ('cerca', 'PREP') ('cerca', 'PREP')\n",
      "('de', 'PREP') ('de', 'PREP') ('de', 'PREP')\n",
      "('15', 'NUM') ('15', 'NUM') ('15', 'NUM')\n",
      "('km', 'N') ('km', 'N') ('km', 'N')\n",
      "('.', '.') ('.', '.') ('.', '.')\n",
      "('O', 'ART') ('O', 'ART') ('O', 'ART')\n",
      "('registro', 'N') ('registro', 'N') ('registro', 'N')\n",
      "('foi', 'V') ('foi', 'VAUX') ('foi', 'VAUX')\n",
      "('feito', 'PCP') ('feito', 'PCP') ('feito', 'PCP')\n",
      "('pelo', 'PDEN') ('pelo', 'PDEN') ('pelo', 'PDEN')\n",
      "('Serviço', 'NPROP') ('Serviço', 'NPROP') ('Serviço', 'NPROP')\n",
      "('Geológico', None) ('Geológico', None) ('Geológico', None)\n",
      "('dos', 'NPROP') ('dos', 'NPROP') ('dos', 'NPROP')\n",
      "('EUA', 'NPROP') ('EUA', 'NPROP') ('EUA', 'NPROP')\n",
      "('.', '.') ('.', '.') ('.', '.')\n",
      "('O', 'ART') ('O', 'ART') ('O', 'ART')\n",
      "('serviço', 'N') ('serviço', 'N') ('serviço', 'N')\n",
      "('europeu', 'ADJ') ('europeu', 'ADJ') ('europeu', 'ADJ')\n",
      "('marcou', 'V') ('marcou', 'V') ('marcou', 'V')\n",
      "('a', 'ART') ('a', 'ART') ('a', 'ART')\n",
      "('mesma', 'PROADJ') ('mesma', 'PROADJ') ('mesma', 'PROADJ')\n",
      "('magnitude', 'N') ('magnitude', 'N') ('magnitude', 'N')\n",
      "('.', '.') ('.', '.') ('.', '.')\n",
      "('O', 'ART') ('O', 'ART') ('O', 'ART')\n",
      "('presidente', 'N') ('presidente', 'N') ('presidente', 'N')\n",
      "('Andrés', 'NPROP') ('Andrés', 'NPROP') ('Andrés', 'NPROP')\n",
      "('Manuel', 'NPROP') ('Manuel', 'NPROP') ('Manuel', 'NPROP')\n",
      "('López', 'NPROP') ('López', 'NPROP') ('López', 'NPROP')\n",
      "('Obrador', None) ('Obrador', None) ('Obrador', None)\n",
      "('disse', 'V') ('disse', 'V') ('disse', 'V')\n",
      "('em', 'PREP|+') ('em', 'PREP|+') ('em', 'PREP|+')\n",
      "('um', 'ART') ('um', 'ART') ('um', 'ART')\n",
      "('discurso', 'N') ('discurso', 'N') ('discurso', 'N')\n",
      "('em', 'PREP|+') ('em', 'PREP|+') ('em', 'PREP|+')\n",
      "('vídeo', 'N') ('vídeo', 'N') ('vídeo', 'N')\n",
      "('que', 'PRO-KS-REL') ('que', 'PRO-KS-REL') ('que', 'PRO-KS-REL')\n",
      "('uma', 'ART') ('uma', 'ART') ('uma', 'ART')\n",
      "('pessoa', 'N') ('pessoa', 'N') ('pessoa', 'N')\n",
      "('morreu', 'V') ('morreu', 'V') ('morreu', 'V')\n",
      "('no', 'KC') ('no', 'KC') ('no', 'KC')\n",
      "('porto', 'N') ('porto', 'N') ('porto', 'N')\n",
      "('de', 'PREP') ('de', 'PREP') ('de', 'PREP')\n",
      "('Manzanillo', None) ('Manzanillo', None) ('Manzanillo', None)\n",
      "(',', ',') (',', ',') (',', ',')\n",
      "('no', 'KC') ('no', 'KC') ('no', 'KC')\n",
      "('Pacífico', 'NPROP') ('Pacífico', 'NPROP') ('Pacífico', 'NPROP')\n",
      "(',', ',') (',', ',') (',', ',')\n",
      "('depois', 'ADV') ('depois', 'PREP') ('depois', 'ADV')\n",
      "('que', 'PRO-KS-REL') ('que', 'PRO-KS-REL') ('que', 'KS')\n",
      "('um', 'ART') ('um', 'ART') ('um', 'ART')\n",
      "('muro', 'N') ('muro', 'N') ('muro', 'N')\n",
      "('de', 'PREP') ('de', 'PREP') ('de', 'PREP|+')\n",
      "('uma', 'ART') ('uma', 'ART') ('uma', 'ART')\n",
      "('loja', 'N') ('loja', 'N') ('loja', 'N')\n",
      "('caiu', 'V') ('caiu', 'V') ('caiu', 'V')\n",
      "('.', '.') ('.', '.') ('.', '.')\n",
      "('O', 'ART') ('O', 'ART') ('O', 'ART')\n",
      "('alerta', 'N') ('alerta', 'N') ('alerta', 'N')\n",
      "('de', 'PREP') ('de', 'PREP') ('de', 'PREP|+')\n",
      "('terremoto', None) ('terremoto', None) ('terremoto', None)\n",
      "('soou', None) ('soou', None) ('soou', None)\n",
      "('quase', 'ADV') ('quase', 'ADV') ('quase', 'ADV')\n",
      "('dois', 'NUM') ('dois', 'NUM') ('dois', 'NUM')\n",
      "('minutos', 'N') ('minutos', 'N') ('minutos', 'N')\n",
      "('antes', 'ADV') ('antes', 'ADV') ('antes', 'ADV')\n",
      "('do', 'NPROP') ('do', 'KS') ('do', 'KS')\n",
      "('tremor', 'N') ('tremor', 'N') ('tremor', 'N')\n",
      "(',', ',') (',', ',') (',', ',')\n",
      "('o', 'ART') ('o', 'ART') ('o', 'ART')\n",
      "('que', 'PRO-KS-REL') ('que', 'PRO-KS-REL') ('que', 'PRO-KS-REL')\n",
      "('deu', 'V') ('deu', 'V') ('deu', 'V')\n",
      "('tempo', 'N') ('tempo', 'N') ('tempo', 'N')\n",
      "('para', 'PREP') ('para', 'PREP') ('para', 'PREP')\n",
      "('os', 'ART') ('os', 'ART') ('os', 'ART')\n",
      "('moradores', 'N') ('moradores', 'N') ('moradores', 'N')\n",
      "('saírem', 'V') ('saírem', 'V') ('saírem', 'V')\n",
      "('de', 'PREP') ('de', 'PREP') ('de', 'PREP')\n",
      "('suas', 'PROADJ') ('suas', 'PROADJ') ('suas', 'PROADJ')\n",
      "('casas', 'N') ('casas', 'N') ('casas', 'N')\n",
      "('.', '.') ('.', '.') ('.', '.')\n"
     ]
    }
   ],
   "source": [
    "## diferenças entre cada um dos algoritmos de tag por token\n",
    "for i in range(len(tokens)):\n",
    "    print(etiq2.tag(tokens)[i],etiq3.tag(tokens)[i],etiq4.tag(tokens)[i])"
   ]
  },
  {
   "cell_type": "code",
   "execution_count": null,
   "id": "c8060b10",
   "metadata": {},
   "outputs": [],
   "source": []
  }
 ],
 "metadata": {
  "kernelspec": {
   "display_name": "Python 3 (ipykernel)",
   "language": "python",
   "name": "python3"
  },
  "language_info": {
   "codemirror_mode": {
    "name": "ipython",
    "version": 3
   },
   "file_extension": ".py",
   "mimetype": "text/x-python",
   "name": "python",
   "nbconvert_exporter": "python",
   "pygments_lexer": "ipython3",
   "version": "3.9.7"
  }
 },
 "nbformat": 4,
 "nbformat_minor": 5
}
