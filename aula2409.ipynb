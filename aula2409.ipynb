{
 "cells": [
  {
   "cell_type": "code",
   "execution_count": 51,
   "id": "89e52cdd",
   "metadata": {},
   "outputs": [],
   "source": [
    "import re\n",
    "import nltk\n",
    "import string\n",
    "import pandas as pd\n",
    "import warnings\n",
    "warnings.filterwarnings(\"ignore\")\n",
    "## mostrar todos os valores nas coluna e mostrar todas as colunas e linhas\n",
    "pd.set_option(\"display.max_colwidth\", -1)\n",
    "pd.set_option('display.max_columns', None) \n",
    "pd.set_option('display.max_rows', None)"
   ]
  },
  {
   "cell_type": "code",
   "execution_count": 52,
   "id": "7935ec53",
   "metadata": {},
   "outputs": [],
   "source": [
    "texto_o=\"\"\"Deep Learning ou aprendizagem profunda em português, nada mais é do que um ramo do machine learning \n",
    ", ou seja, é um aprendizado de maquina que visa 'ensinar' as maquinas a agirem e interpretarem dados de uma maneira mais natural\n",
    ". O Deep learning faz o treinamento de um modelo comupatacional para que ele possa decifrar a linguagem natural. O modelo\n",
    "relaciona termos e palavras para interferir significado, uma vez que é alimentado com grandes quntidade de dados.\n",
    "\"\"\"\n"
   ]
  },
  {
   "cell_type": "code",
   "execution_count": 53,
   "id": "56bb0cf4",
   "metadata": {},
   "outputs": [],
   "source": [
    "texto_o=re.sub(r'\\s+', ' ',texto_o)"
   ]
  },
  {
   "cell_type": "code",
   "execution_count": 54,
   "id": "d52b4e99",
   "metadata": {},
   "outputs": [
    {
     "data": {
      "text/plain": [
       "\"Deep Learning ou aprendizagem profunda em português, nada mais é do que um ramo do machine learning , ou seja, é um aprendizado de maquina que visa 'ensinar' as maquinas a agirem e interpretarem dados de uma maneira mais natural . O Deep learning faz o treinamento de um modelo comupatacional para que ele possa decifrar a linguagem natural. O modelo relaciona termos e palavras para interferir significado, uma vez que é alimentado com grandes quntidade de dados. \""
      ]
     },
     "execution_count": 54,
     "metadata": {},
     "output_type": "execute_result"
    }
   ],
   "source": [
    "texto_o"
   ]
  },
  {
   "cell_type": "code",
   "execution_count": 55,
   "id": "c26e1743",
   "metadata": {},
   "outputs": [
    {
     "name": "stderr",
     "output_type": "stream",
     "text": [
      "[nltk_data] Downloading package punkt to\n",
      "[nltk_data]     C:\\Users\\cd202-10\\AppData\\Roaming\\nltk_data...\n",
      "[nltk_data]   Package punkt is already up-to-date!\n"
     ]
    },
    {
     "data": {
      "text/plain": [
       "True"
      ]
     },
     "execution_count": 55,
     "metadata": {},
     "output_type": "execute_result"
    }
   ],
   "source": [
    "nltk.download('punkt')"
   ]
  },
  {
   "cell_type": "code",
   "execution_count": 56,
   "id": "c1a529bd",
   "metadata": {},
   "outputs": [
    {
     "name": "stderr",
     "output_type": "stream",
     "text": [
      "[nltk_data] Downloading package stopwords to\n",
      "[nltk_data]     C:\\Users\\cd202-10\\AppData\\Roaming\\nltk_data...\n",
      "[nltk_data]   Package stopwords is already up-to-date!\n"
     ]
    },
    {
     "data": {
      "text/plain": [
       "True"
      ]
     },
     "execution_count": 56,
     "metadata": {},
     "output_type": "execute_result"
    }
   ],
   "source": [
    "nltk.download('stopwords')"
   ]
  },
  {
   "cell_type": "code",
   "execution_count": 57,
   "id": "7c094e0f",
   "metadata": {},
   "outputs": [
    {
     "name": "stdout",
     "output_type": "stream",
     "text": [
      "['a', 'à', 'ao', 'aos', 'aquela', 'aquelas', 'aquele', 'aqueles', 'aquilo', 'as', 'às', 'até', 'com', 'como', 'da', 'das', 'de', 'dela', 'delas', 'dele', 'deles', 'depois', 'do', 'dos', 'e', 'é', 'ela', 'elas', 'ele', 'eles', 'em', 'entre', 'era', 'eram', 'éramos', 'essa', 'essas', 'esse', 'esses', 'esta', 'está', 'estamos', 'estão', 'estar', 'estas', 'estava', 'estavam', 'estávamos', 'este', 'esteja', 'estejam', 'estejamos', 'estes', 'esteve', 'estive', 'estivemos', 'estiver', 'estivera', 'estiveram', 'estivéramos', 'estiverem', 'estivermos', 'estivesse', 'estivessem', 'estivéssemos', 'estou', 'eu', 'foi', 'fomos', 'for', 'fora', 'foram', 'fôramos', 'forem', 'formos', 'fosse', 'fossem', 'fôssemos', 'fui', 'há', 'haja', 'hajam', 'hajamos', 'hão', 'havemos', 'haver', 'hei', 'houve', 'houvemos', 'houver', 'houvera', 'houverá', 'houveram', 'houvéramos', 'houverão', 'houverei', 'houverem', 'houveremos', 'houveria', 'houveriam', 'houveríamos', 'houvermos', 'houvesse', 'houvessem', 'houvéssemos', 'isso', 'isto', 'já', 'lhe', 'lhes', 'mais', 'mas', 'me', 'mesmo', 'meu', 'meus', 'minha', 'minhas', 'muito', 'na', 'não', 'nas', 'nem', 'no', 'nos', 'nós', 'nossa', 'nossas', 'nosso', 'nossos', 'num', 'numa', 'o', 'os', 'ou', 'para', 'pela', 'pelas', 'pelo', 'pelos', 'por', 'qual', 'quando', 'que', 'quem', 'são', 'se', 'seja', 'sejam', 'sejamos', 'sem', 'ser', 'será', 'serão', 'serei', 'seremos', 'seria', 'seriam', 'seríamos', 'seu', 'seus', 'só', 'somos', 'sou', 'sua', 'suas', 'também', 'te', 'tem', 'tém', 'temos', 'tenha', 'tenham', 'tenhamos', 'tenho', 'terá', 'terão', 'terei', 'teremos', 'teria', 'teriam', 'teríamos', 'teu', 'teus', 'teve', 'tinha', 'tinham', 'tínhamos', 'tive', 'tivemos', 'tiver', 'tivera', 'tiveram', 'tivéramos', 'tiverem', 'tivermos', 'tivesse', 'tivessem', 'tivéssemos', 'tu', 'tua', 'tuas', 'um', 'uma', 'você', 'vocês', 'vos']\n"
     ]
    }
   ],
   "source": [
    "stopwords=nltk.corpus.stopwords.words('portuguese')\n",
    "print(stopwords)"
   ]
  },
  {
   "cell_type": "code",
   "execution_count": 58,
   "id": "9b1ca7b3",
   "metadata": {},
   "outputs": [
    {
     "data": {
      "text/plain": [
       "'!\"#$%&\\'()*+,-./:;<=>?@[\\\\]^_`{|}~'"
      ]
     },
     "execution_count": 58,
     "metadata": {},
     "output_type": "execute_result"
    }
   ],
   "source": [
    "string.punctuation"
   ]
  },
  {
   "cell_type": "code",
   "execution_count": 59,
   "id": "b2b1ca85",
   "metadata": {},
   "outputs": [],
   "source": [
    "def preprocessamento(texto):\n",
    "    texto_formatado=texto.lower()\n",
    "    tokens=[]\n",
    "    for token in nltk.word_tokenize(texto_formatado):\n",
    "        tokens.append(token)\n",
    "    tokens=[palavra for palavra in tokens if palavra not in stopwords and palavra not in string.punctuation]\n",
    "    texto_formatado=''.join(texto_formatado)\n",
    "    return texto_formatado\n"
   ]
  },
  {
   "cell_type": "code",
   "execution_count": 60,
   "id": "684a68ca",
   "metadata": {},
   "outputs": [
    {
     "data": {
      "text/plain": [
       "['deep',\n",
       " 'learning',\n",
       " 'ou',\n",
       " 'aprendizagem',\n",
       " 'profunda',\n",
       " 'em',\n",
       " 'português',\n",
       " ',',\n",
       " 'nada',\n",
       " 'mais',\n",
       " 'é',\n",
       " 'do',\n",
       " 'que',\n",
       " 'um',\n",
       " 'ramo',\n",
       " 'do',\n",
       " 'machine',\n",
       " 'learning',\n",
       " ',',\n",
       " 'ou',\n",
       " 'seja',\n",
       " ',',\n",
       " 'é',\n",
       " 'um',\n",
       " 'aprendizado',\n",
       " 'de',\n",
       " 'maquina',\n",
       " 'que',\n",
       " 'visa',\n",
       " \"'ensinar\",\n",
       " \"'\",\n",
       " 'as',\n",
       " 'maquinas',\n",
       " 'a',\n",
       " 'agirem',\n",
       " 'e',\n",
       " 'interpretarem',\n",
       " 'dados',\n",
       " 'de',\n",
       " 'uma',\n",
       " 'maneira',\n",
       " 'mais',\n",
       " 'natural',\n",
       " '.',\n",
       " 'o',\n",
       " 'deep',\n",
       " 'learning',\n",
       " 'faz',\n",
       " 'o',\n",
       " 'treinamento',\n",
       " 'de',\n",
       " 'um',\n",
       " 'modelo',\n",
       " 'comupatacional',\n",
       " 'para',\n",
       " 'que',\n",
       " 'ele',\n",
       " 'possa',\n",
       " 'decifrar',\n",
       " 'a',\n",
       " 'linguagem',\n",
       " 'natural',\n",
       " '.',\n",
       " 'o',\n",
       " 'modelo',\n",
       " 'relaciona',\n",
       " 'termos',\n",
       " 'e',\n",
       " 'palavras',\n",
       " 'para',\n",
       " 'interferir',\n",
       " 'significado',\n",
       " ',',\n",
       " 'uma',\n",
       " 'vez',\n",
       " 'que',\n",
       " 'é',\n",
       " 'alimentado',\n",
       " 'com',\n",
       " 'grandes',\n",
       " 'quntidade',\n",
       " 'de',\n",
       " 'dados',\n",
       " '.']"
      ]
     },
     "execution_count": 60,
     "metadata": {},
     "output_type": "execute_result"
    }
   ],
   "source": [
    "texto_formatado=texto_o.lower()\n",
    "tokens=[]\n",
    "for token in nltk.word_tokenize(texto_formatado):\n",
    "    tokens.append(token)\n",
    "tokens"
   ]
  },
  {
   "cell_type": "code",
   "execution_count": 70,
   "id": "1051fe49",
   "metadata": {},
   "outputs": [],
   "source": [
    "from nltk.corpus import stopwords\n",
    "from nltk.tokenize import word_tokenize\n",
    "  \n",
    "stop_words = set(stopwords.words('portuguese'))\n",
    "    \n",
    "filtered_sentence = [w for w in tokens if not w.lower() in stop_words]\n",
    "  \n",
    "filtered_sentence = []\n",
    "  \n",
    "for w in tokens:\n",
    "    if w not in stop_words:\n",
    "        filtered_sentence.append(w)\n",
    "filtered_sentence\n",
    "texto_formatado=' '.join(filtered_sentence)"
   ]
  },
  {
   "cell_type": "code",
   "execution_count": 89,
   "id": "0cf9d815",
   "metadata": {
    "scrolled": true
   },
   "outputs": [
    {
     "data": {
      "text/plain": [
       "FreqDist({',': 4, 'learning': 3, '.': 3, 'deep': 2, 'dados': 2, 'natural': 2, 'modelo': 2, 'aprendizagem': 1, 'profunda': 1, 'português': 1, ...})"
      ]
     },
     "execution_count": 89,
     "metadata": {},
     "output_type": "execute_result"
    }
   ],
   "source": [
    "frequencia_palavras = nltk.FreqDist(nltk.word_tokenize(texto_formatado))\n",
    "frequencia_palavras"
   ]
  },
  {
   "cell_type": "code",
   "execution_count": 93,
   "id": "6f7b5587",
   "metadata": {},
   "outputs": [
    {
     "data": {
      "text/plain": [
       "37"
      ]
     },
     "execution_count": 93,
     "metadata": {},
     "output_type": "execute_result"
    }
   ],
   "source": [
    "len(frequencia_palavras)"
   ]
  },
  {
   "cell_type": "code",
   "execution_count": 92,
   "id": "6b7683d7",
   "metadata": {},
   "outputs": [
    {
     "name": "stdout",
     "output_type": "stream",
     "text": [
      "('deep', 2)\n",
      "('learning', 3)\n",
      "('aprendizagem', 1)\n",
      "('profunda', 1)\n",
      "('português', 1)\n",
      "(',', 4)\n",
      "('nada', 1)\n",
      "('ramo', 1)\n",
      "('machine', 1)\n",
      "('aprendizado', 1)\n",
      "('maquina', 1)\n",
      "('visa', 1)\n",
      "(\"'ensinar\", 1)\n",
      "(\"'\", 1)\n",
      "('maquinas', 1)\n",
      "('agirem', 1)\n",
      "('interpretarem', 1)\n",
      "('dados', 2)\n",
      "('maneira', 1)\n",
      "('natural', 2)\n",
      "('.', 3)\n",
      "('faz', 1)\n",
      "('treinamento', 1)\n",
      "('modelo', 2)\n",
      "('comupatacional', 1)\n",
      "('possa', 1)\n",
      "('decifrar', 1)\n",
      "('linguagem', 1)\n",
      "('relaciona', 1)\n",
      "('termos', 1)\n",
      "('palavras', 1)\n",
      "('interferir', 1)\n",
      "('significado', 1)\n",
      "('vez', 1)\n",
      "('alimentado', 1)\n",
      "('grandes', 1)\n",
      "('quntidade', 1)\n"
     ]
    }
   ],
   "source": [
    "for i in frequencia_palavras.items():\n",
    "    print(i)"
   ]
  },
  {
   "cell_type": "code",
   "execution_count": 72,
   "id": "aea1d0c6",
   "metadata": {},
   "outputs": [
    {
     "data": {
      "text/plain": [
       "4"
      ]
     },
     "execution_count": 72,
     "metadata": {},
     "output_type": "execute_result"
    }
   ],
   "source": [
    "frequencia_maxima=max(frequencia_palavras.values())\n",
    "frequencia_maxima"
   ]
  },
  {
   "cell_type": "code",
   "execution_count": 94,
   "id": "db5fcfa7",
   "metadata": {},
   "outputs": [
    {
     "data": {
      "text/plain": [
       "FreqDist({',': 1.0, 'learning': 0.75, '.': 0.75, 'deep': 0.5, 'dados': 0.5, 'natural': 0.5, 'modelo': 0.5, 'aprendizagem': 0.25, 'profunda': 0.25, 'português': 0.25, ...})"
      ]
     },
     "execution_count": 94,
     "metadata": {},
     "output_type": "execute_result"
    }
   ],
   "source": [
    "for palavra in frequencia_palavras.keys():\n",
    "    frequencia_palavras[palavra]=(frequencia_palavras[palavra]/frequencia_maxima)\n",
    "frequencia_palavras"
   ]
  },
  {
   "cell_type": "code",
   "execution_count": 95,
   "id": "abe6f73b",
   "metadata": {},
   "outputs": [
    {
     "name": "stdout",
     "output_type": "stream",
     "text": [
      "('deep', 0.5)\n",
      "('learning', 0.75)\n",
      "('aprendizagem', 0.25)\n",
      "('profunda', 0.25)\n",
      "('português', 0.25)\n",
      "(',', 1.0)\n",
      "('nada', 0.25)\n",
      "('ramo', 0.25)\n",
      "('machine', 0.25)\n",
      "('aprendizado', 0.25)\n",
      "('maquina', 0.25)\n",
      "('visa', 0.25)\n",
      "(\"'ensinar\", 0.25)\n",
      "(\"'\", 0.25)\n",
      "('maquinas', 0.25)\n",
      "('agirem', 0.25)\n",
      "('interpretarem', 0.25)\n",
      "('dados', 0.5)\n",
      "('maneira', 0.25)\n",
      "('natural', 0.5)\n",
      "('.', 0.75)\n",
      "('faz', 0.25)\n",
      "('treinamento', 0.25)\n",
      "('modelo', 0.5)\n",
      "('comupatacional', 0.25)\n",
      "('possa', 0.25)\n",
      "('decifrar', 0.25)\n",
      "('linguagem', 0.25)\n",
      "('relaciona', 0.25)\n",
      "('termos', 0.25)\n",
      "('palavras', 0.25)\n",
      "('interferir', 0.25)\n",
      "('significado', 0.25)\n",
      "('vez', 0.25)\n",
      "('alimentado', 0.25)\n",
      "('grandes', 0.25)\n",
      "('quntidade', 0.25)\n"
     ]
    }
   ],
   "source": [
    "for i in frequencia_palavras.items():\n",
    "    print(i)"
   ]
  },
  {
   "cell_type": "code",
   "execution_count": 74,
   "id": "fdd923b2",
   "metadata": {},
   "outputs": [
    {
     "data": {
      "text/plain": [
       "[\"Deep Learning ou aprendizagem profunda em português, nada mais é do que um ramo do machine learning , ou seja, é um aprendizado de maquina que visa 'ensinar' as maquinas a agirem e interpretarem dados de uma maneira mais natural .\",\n",
       " 'O Deep learning faz o treinamento de um modelo comupatacional para que ele possa decifrar a linguagem natural.',\n",
       " 'O modelo relaciona termos e palavras para interferir significado, uma vez que é alimentado com grandes quntidade de dados.']"
      ]
     },
     "execution_count": 74,
     "metadata": {},
     "output_type": "execute_result"
    }
   ],
   "source": [
    "lista_sentencas = nltk.sent_tokenize(texto_o)\n",
    "lista_sentencas"
   ]
  },
  {
   "cell_type": "code",
   "execution_count": 75,
   "id": "32fdc688",
   "metadata": {},
   "outputs": [
    {
     "data": {
      "text/plain": [
       "{\"Deep Learning ou aprendizagem profunda em português, nada mais é do que um ramo do machine learning , ou seja, é um aprendizado de maquina que visa 'ensinar' as maquinas a agirem e interpretarem dados de uma maneira mais natural .\": 10.5,\n",
       " 'O Deep learning faz o treinamento de um modelo comupatacional para que ele possa decifrar a linguagem natural.': 4.5,\n",
       " 'O modelo relaciona termos e palavras para interferir significado, uma vez que é alimentado com grandes quntidade de dados.': 5.0}"
      ]
     },
     "execution_count": 75,
     "metadata": {},
     "output_type": "execute_result"
    }
   ],
   "source": [
    "nota_sentencas = {}\n",
    "for sentenca in lista_sentencas:\n",
    "    for palavra in nltk.word_tokenize(sentenca.lower()):\n",
    "        if palavra in frequencia_palavras.keys():\n",
    "            if sentenca not in nota_sentencas.keys():\n",
    "                nota_sentencas[sentenca]=frequencia_palavras[palavra]\n",
    "            else:\n",
    "                nota_sentencas[sentenca]+=frequencia_palavras[palavra]\n",
    "nota_sentencas"
   ]
  },
  {
   "cell_type": "code",
   "execution_count": 76,
   "id": "5c06218d",
   "metadata": {},
   "outputs": [
    {
     "data": {
      "text/plain": [
       "[\"Deep Learning ou aprendizagem profunda em português, nada mais é do que um ramo do machine learning , ou seja, é um aprendizado de maquina que visa 'ensinar' as maquinas a agirem e interpretarem dados de uma maneira mais natural .\",\n",
       " 'O modelo relaciona termos e palavras para interferir significado, uma vez que é alimentado com grandes quntidade de dados.',\n",
       " 'O Deep learning faz o treinamento de um modelo comupatacional para que ele possa decifrar a linguagem natural.']"
      ]
     },
     "execution_count": 76,
     "metadata": {},
     "output_type": "execute_result"
    }
   ],
   "source": [
    "import heapq\n",
    "melhores_sentencas = heapq.nlargest(3,nota_sentencas,key=nota_sentencas.get)\n",
    "melhores_sentencas"
   ]
  },
  {
   "cell_type": "code",
   "execution_count": 77,
   "id": "55a2b1ee",
   "metadata": {},
   "outputs": [
    {
     "data": {
      "text/plain": [
       "\"Deep Learning ou aprendizagem profunda em português, nada mais é do que um ramo do machine learning , ou seja, é um aprendizado de maquina que visa 'ensinar' as maquinas a agirem e interpretarem dados de uma maneira mais natural . O modelo relaciona termos e palavras para interferir significado, uma vez que é alimentado com grandes quntidade de dados. O Deep learning faz o treinamento de um modelo comupatacional para que ele possa decifrar a linguagem natural.\""
      ]
     },
     "execution_count": 77,
     "metadata": {},
     "output_type": "execute_result"
    }
   ],
   "source": [
    "resumo = ' '.join(melhores_sentencas)\n",
    "resumo"
   ]
  },
  {
   "cell_type": "code",
   "execution_count": null,
   "id": "618cc8bb",
   "metadata": {},
   "outputs": [],
   "source": []
  }
 ],
 "metadata": {
  "kernelspec": {
   "display_name": "Python 3",
   "language": "python",
   "name": "python3"
  },
  "language_info": {
   "codemirror_mode": {
    "name": "ipython",
    "version": 3
   },
   "file_extension": ".py",
   "mimetype": "text/x-python",
   "name": "python",
   "nbconvert_exporter": "python",
   "pygments_lexer": "ipython3",
   "version": "3.8.3"
  }
 },
 "nbformat": 4,
 "nbformat_minor": 5
}
