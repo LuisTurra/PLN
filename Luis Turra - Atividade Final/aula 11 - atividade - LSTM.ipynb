{
 "cells": [
  {
   "cell_type": "code",
   "execution_count": 1,
   "metadata": {},
   "outputs": [],
   "source": [
    "import pandas as pd\n",
    "import numpy as np\n",
    "from sklearn.model_selection import train_test_split\n",
    "from sklearn.preprocessing import LabelEncoder\n",
    "from keras.models import Sequential\n",
    "from keras.layers import Dense, Embedding,LSTM,SpatialDropout1D\n",
    "from keras_preprocessing.text import Tokenizer\n",
    "from keras_preprocessing.sequence import pad_sequences\n",
    "from keras.utils import np_utils\n"
   ]
  },
  {
   "cell_type": "code",
   "execution_count": 2,
   "metadata": {},
   "outputs": [],
   "source": [
    "Tweets=pd.read_csv('Tweets.csv')"
   ]
  },
  {
   "cell_type": "code",
   "execution_count": 3,
   "metadata": {},
   "outputs": [
    {
     "data": {
      "text/html": [
       "<div>\n",
       "<style scoped>\n",
       "    .dataframe tbody tr th:only-of-type {\n",
       "        vertical-align: middle;\n",
       "    }\n",
       "\n",
       "    .dataframe tbody tr th {\n",
       "        vertical-align: top;\n",
       "    }\n",
       "\n",
       "    .dataframe thead th {\n",
       "        text-align: right;\n",
       "    }\n",
       "</style>\n",
       "<table border=\"1\" class=\"dataframe\">\n",
       "  <thead>\n",
       "    <tr style=\"text-align: right;\">\n",
       "      <th></th>\n",
       "      <th>tweet_id</th>\n",
       "      <th>airline_sentiment</th>\n",
       "      <th>airline_sentiment_confidence</th>\n",
       "      <th>negativereason</th>\n",
       "      <th>negativereason_confidence</th>\n",
       "      <th>airline</th>\n",
       "      <th>airline_sentiment_gold</th>\n",
       "      <th>name</th>\n",
       "      <th>negativereason_gold</th>\n",
       "      <th>retweet_count</th>\n",
       "      <th>text</th>\n",
       "      <th>tweet_coord</th>\n",
       "      <th>tweet_created</th>\n",
       "      <th>tweet_location</th>\n",
       "      <th>user_timezone</th>\n",
       "    </tr>\n",
       "  </thead>\n",
       "  <tbody>\n",
       "    <tr>\n",
       "      <th>0</th>\n",
       "      <td>570306133677760513</td>\n",
       "      <td>neutral</td>\n",
       "      <td>1.0</td>\n",
       "      <td>NaN</td>\n",
       "      <td>NaN</td>\n",
       "      <td>Virgin America</td>\n",
       "      <td>NaN</td>\n",
       "      <td>cairdin</td>\n",
       "      <td>NaN</td>\n",
       "      <td>0</td>\n",
       "      <td>@VirginAmerica What @dhepburn said.</td>\n",
       "      <td>NaN</td>\n",
       "      <td>2015-02-24 11:35:52 -0800</td>\n",
       "      <td>NaN</td>\n",
       "      <td>Eastern Time (US &amp; Canada)</td>\n",
       "    </tr>\n",
       "  </tbody>\n",
       "</table>\n",
       "</div>"
      ],
      "text/plain": [
       "             tweet_id airline_sentiment  airline_sentiment_confidence  \\\n",
       "0  570306133677760513           neutral                           1.0   \n",
       "\n",
       "  negativereason  negativereason_confidence         airline  \\\n",
       "0            NaN                        NaN  Virgin America   \n",
       "\n",
       "  airline_sentiment_gold     name negativereason_gold  retweet_count  \\\n",
       "0                    NaN  cairdin                 NaN              0   \n",
       "\n",
       "                                  text tweet_coord              tweet_created  \\\n",
       "0  @VirginAmerica What @dhepburn said.         NaN  2015-02-24 11:35:52 -0800   \n",
       "\n",
       "  tweet_location               user_timezone  \n",
       "0            NaN  Eastern Time (US & Canada)  "
      ]
     },
     "execution_count": 3,
     "metadata": {},
     "output_type": "execute_result"
    }
   ],
   "source": [
    "Tweets.head(1)"
   ]
  },
  {
   "cell_type": "code",
   "execution_count": 4,
   "metadata": {},
   "outputs": [
    {
     "data": {
      "text/plain": [
       "airline_sentiment\n",
       "negative    9178\n",
       "neutral     3099\n",
       "positive    2363\n",
       "dtype: int64"
      ]
     },
     "execution_count": 4,
     "metadata": {},
     "output_type": "execute_result"
    }
   ],
   "source": [
    "Tweets.groupby(['airline_sentiment']).size()"
   ]
  },
  {
   "cell_type": "code",
   "execution_count": 5,
   "metadata": {},
   "outputs": [],
   "source": [
    "Tweets = Tweets[Tweets['airline_sentiment_confidence']>0.8]"
   ]
  },
  {
   "cell_type": "code",
   "execution_count": 6,
   "metadata": {},
   "outputs": [],
   "source": [
    "token = Tokenizer(num_words = 100)\n",
    "token.fit_on_texts(Tweets['text'].values)"
   ]
  },
  {
   "cell_type": "code",
   "execution_count": 8,
   "metadata": {},
   "outputs": [],
   "source": [
    "x=token.texts_to_sequences(Tweets['text'].values)\n",
    "x = pad_sequences(x,padding='post',maxlen = 100)"
   ]
  },
  {
   "cell_type": "code",
   "execution_count": 9,
   "metadata": {},
   "outputs": [
    {
     "name": "stdout",
     "output_type": "stream",
     "text": [
      "[[97 62  0 ...  0  0  0]\n",
      " [97 99  1 ...  0  0  0]\n",
      " [97  9 99 ...  0  0  0]\n",
      " ...\n",
      " [13 98 93 ...  0  0  0]\n",
      " [13 89  1 ...  0  0  0]\n",
      " [13  6 23 ...  0  0  0]]\n"
     ]
    }
   ],
   "source": [
    "print(x)"
   ]
  },
  {
   "cell_type": "code",
   "execution_count": 10,
   "metadata": {},
   "outputs": [
    {
     "name": "stdout",
     "output_type": "stream",
     "text": [
      "[1 0 0 ... 0 1 0]\n"
     ]
    }
   ],
   "source": [
    "labelencoder = LabelEncoder()\n",
    "y = labelencoder.fit_transform(Tweets['airline_sentiment'])\n",
    "print(y)"
   ]
  },
  {
   "cell_type": "code",
   "execution_count": 11,
   "metadata": {},
   "outputs": [
    {
     "name": "stdout",
     "output_type": "stream",
     "text": [
      "[[0. 1. 0.]\n",
      " [1. 0. 0.]\n",
      " [1. 0. 0.]\n",
      " ...\n",
      " [1. 0. 0.]\n",
      " [0. 1. 0.]\n",
      " [1. 0. 0.]]\n"
     ]
    }
   ],
   "source": [
    "y = np_utils.to_categorical(y)\n",
    "print(y)"
   ]
  },
  {
   "cell_type": "code",
   "execution_count": 12,
   "metadata": {},
   "outputs": [],
   "source": [
    "x_train,xtest,y_train,ytest = train_test_split(x, y, test_size=0.3,random_state=0)"
   ]
  },
  {
   "cell_type": "code",
   "execution_count": 13,
   "metadata": {},
   "outputs": [
    {
     "data": {
      "text/plain": [
       "array([[16, 14, 36, ...,  0,  0,  0],\n",
       "       [13, 79, 38, ...,  0,  0,  0],\n",
       "       [ 8, 10, 17, ...,  0,  0,  0],\n",
       "       ...,\n",
       "       [16, 14, 57, ...,  0,  0,  0],\n",
       "       [16, 20, 92, ...,  0,  0,  0],\n",
       "       [16, 80, 26, ...,  0,  0,  0]])"
      ]
     },
     "execution_count": 13,
     "metadata": {},
     "output_type": "execute_result"
    }
   ],
   "source": [
    "xtest"
   ]
  },
  {
   "cell_type": "code",
   "execution_count": 14,
   "metadata": {},
   "outputs": [],
   "source": [
    "modelo = Sequential()\n",
    "\n",
    "modelo.add(Embedding(input_dim=len(token.word_index),output_dim = 128,input_length= x.shape[1]))\n",
    "\n",
    "modelo.add(SpatialDropout1D(0.2))\n",
    "#units = quantidade de neuronio\n",
    "modelo.add(LSTM(units = 196,dropout=0.2,recurrent_dropout=0,activation='tanh',recurrent_activation='sigmoid',unroll=False,use_bias=True))\n",
    "\n",
    "modelo.add(Dense(units=3,activation='softmax'))"
   ]
  },
  {
   "cell_type": "code",
   "execution_count": 15,
   "metadata": {},
   "outputs": [
    {
     "name": "stdout",
     "output_type": "stream",
     "text": [
      "Model: \"sequential\"\n",
      "_________________________________________________________________\n",
      " Layer (type)                Output Shape              Param #   \n",
      "=================================================================\n",
      " embedding (Embedding)       (None, 100, 128)          1638656   \n",
      "                                                                 \n",
      " spatial_dropout1d (SpatialD  (None, 100, 128)         0         \n",
      " ropout1D)                                                       \n",
      "                                                                 \n",
      " lstm (LSTM)                 (None, 196)               254800    \n",
      "                                                                 \n",
      " dense (Dense)               (None, 3)                 591       \n",
      "                                                                 \n",
      "=================================================================\n",
      "Total params: 1,894,047\n",
      "Trainable params: 1,894,047\n",
      "Non-trainable params: 0\n",
      "_________________________________________________________________\n"
     ]
    }
   ],
   "source": [
    "modelo.summary()"
   ]
  },
  {
   "cell_type": "code",
   "execution_count": 16,
   "metadata": {},
   "outputs": [],
   "source": [
    "modelo.compile(loss='categorical_crossentropy', optimizer='adam',metrics=['accuracy'])"
   ]
  },
  {
   "cell_type": "code",
   "execution_count": 17,
   "metadata": {},
   "outputs": [
    {
     "name": "stdout",
     "output_type": "stream",
     "text": [
      "Epoch 1/10\n",
      "245/245 [==============================] - 30s 116ms/step - loss: 0.8169 - accuracy: 0.7069 - val_loss: 0.8170 - val_accuracy: 0.7027\n",
      "Epoch 2/10\n",
      "245/245 [==============================] - 32s 131ms/step - loss: 0.8094 - accuracy: 0.7085 - val_loss: 0.8144 - val_accuracy: 0.7027\n",
      "Epoch 3/10\n",
      "245/245 [==============================] - 28s 112ms/step - loss: 0.8091 - accuracy: 0.7085 - val_loss: 0.8178 - val_accuracy: 0.7027\n",
      "Epoch 4/10\n",
      "245/245 [==============================] - 27s 109ms/step - loss: 0.8090 - accuracy: 0.7085 - val_loss: 0.8186 - val_accuracy: 0.7027\n",
      "Epoch 5/10\n",
      "245/245 [==============================] - 27s 111ms/step - loss: 0.8081 - accuracy: 0.7085 - val_loss: 0.8152 - val_accuracy: 0.7027\n",
      "Epoch 6/10\n",
      "245/245 [==============================] - 31s 128ms/step - loss: 0.8077 - accuracy: 0.7085 - val_loss: 0.8143 - val_accuracy: 0.7027\n",
      "Epoch 7/10\n",
      "245/245 [==============================] - 26s 106ms/step - loss: 0.8077 - accuracy: 0.7085 - val_loss: 0.8142 - val_accuracy: 0.7027\n",
      "Epoch 8/10\n",
      "245/245 [==============================] - 29s 116ms/step - loss: 0.8076 - accuracy: 0.7085 - val_loss: 0.8187 - val_accuracy: 0.7027\n",
      "Epoch 9/10\n",
      "245/245 [==============================] - 26s 105ms/step - loss: 0.8074 - accuracy: 0.7085 - val_loss: 0.8165 - val_accuracy: 0.7027\n",
      "Epoch 10/10\n",
      "245/245 [==============================] - 26s 106ms/step - loss: 0.8067 - accuracy: 0.7085 - val_loss: 0.8164 - val_accuracy: 0.7027\n"
     ]
    },
    {
     "data": {
      "text/plain": [
       "<keras.callbacks.History at 0x283c2a68ee0>"
      ]
     },
     "execution_count": 17,
     "metadata": {},
     "output_type": "execute_result"
    }
   ],
   "source": [
    "modelo.fit(x_train,y_train,epochs=10,batch_size=30,verbose=True,validation_data=(xtest,ytest))"
   ]
  },
  {
   "cell_type": "code",
   "execution_count": 18,
   "metadata": {},
   "outputs": [
    {
     "name": "stdout",
     "output_type": "stream",
     "text": [
      "99/99 [==============================] - 3s 30ms/step - loss: 0.8164 - accuracy: 0.7027\n",
      "loss:  0.8163799047470093 \n",
      " acuracia:  0.7026768922805786\n"
     ]
    }
   ],
   "source": [
    "loss,accuracy = modelo.evaluate(xtest, ytest)\n",
    "print(\"loss: \", loss,'\\n','acuracia: ',accuracy)"
   ]
  },
  {
   "cell_type": "code",
   "execution_count": 19,
   "metadata": {},
   "outputs": [
    {
     "data": {
      "text/plain": [
       "array([[0.7125902 , 0.13638921, 0.15102056],\n",
       "       [0.7125902 , 0.13638921, 0.15102056],\n",
       "       [0.7125902 , 0.13638921, 0.15102056],\n",
       "       ...,\n",
       "       [0.7125902 , 0.13638921, 0.15102056],\n",
       "       [0.7125902 , 0.13638921, 0.15102056],\n",
       "       [0.7125902 , 0.13638921, 0.15102056]], dtype=float32)"
      ]
     },
     "execution_count": 19,
     "metadata": {},
     "output_type": "execute_result"
    }
   ],
   "source": [
    "prev = modelo.predict(xtest)\n",
    "prev"
   ]
  },
  {
   "cell_type": "markdown",
   "metadata": {},
   "source": [
    "# atividade 11 - LSTM"
   ]
  },
  {
   "cell_type": "code",
   "execution_count": 50,
   "metadata": {},
   "outputs": [
    {
     "name": "stdout",
     "output_type": "stream",
     "text": [
      "Model: \"sequential_7\"\n",
      "_________________________________________________________________\n",
      " Layer (type)                Output Shape              Param #   \n",
      "=================================================================\n",
      " embedding_7 (Embedding)     (None, 100, 128)          1638656   \n",
      "                                                                 \n",
      " conv1d_2 (Conv1D)           (None, 100, 32)           12320     \n",
      "                                                                 \n",
      " max_pooling1d_2 (MaxPooling  (None, 50, 32)           0         \n",
      " 1D)                                                             \n",
      "                                                                 \n",
      " bidirectional_2 (Bidirectio  (None, 64)               16640     \n",
      " nal)                                                            \n",
      "                                                                 \n",
      " dropout_5 (Dropout)         (None, 64)                0         \n",
      "                                                                 \n",
      " dense_6 (Dense)             (None, 3)                 195       \n",
      "                                                                 \n",
      "=================================================================\n",
      "Total params: 1,667,811\n",
      "Trainable params: 1,667,811\n",
      "Non-trainable params: 0\n",
      "_________________________________________________________________\n"
     ]
    }
   ],
   "source": [
    "model = Sequential()\n",
    "\n",
    "model.add(Embedding(input_dim=len(token.word_index),output_dim = 128,input_length= x.shape[1]))\n",
    "\n",
    "model.add(Conv1D(filters=32, kernel_size=3, padding='same', activation='relu'))\n",
    "model.add(MaxPooling1D(pool_size=2))\n",
    "model.add(Bidirectional(LSTM(32)))\n",
    "model.add(Dropout(0.4))\n",
    "model.add(Dense(3, activation='softmax'))\n",
    "\n",
    "model.summary()"
   ]
  },
  {
   "cell_type": "code",
   "execution_count": 51,
   "metadata": {},
   "outputs": [],
   "source": [
    "model.compile(loss='categorical_crossentropy', optimizer='adam',metrics=['accuracy'])"
   ]
  },
  {
   "cell_type": "code",
   "execution_count": 52,
   "metadata": {},
   "outputs": [
    {
     "name": "stdout",
     "output_type": "stream",
     "text": [
      "Epoch 1/20\n",
      "115/115 [==============================] - 9s 46ms/step - loss: 0.7209 - accuracy: 0.7261 - val_loss: 0.6001 - val_accuracy: 0.7495\n",
      "Epoch 2/20\n",
      "115/115 [==============================] - 4s 39ms/step - loss: 0.5561 - accuracy: 0.7827 - val_loss: 0.5536 - val_accuracy: 0.7938\n",
      "Epoch 3/20\n",
      "115/115 [==============================] - 5s 41ms/step - loss: 0.5125 - accuracy: 0.8063 - val_loss: 0.5236 - val_accuracy: 0.8008\n",
      "Epoch 4/20\n",
      "115/115 [==============================] - 5s 44ms/step - loss: 0.4881 - accuracy: 0.8161 - val_loss: 0.5123 - val_accuracy: 0.8072\n",
      "Epoch 5/20\n",
      "115/115 [==============================] - 5s 39ms/step - loss: 0.4731 - accuracy: 0.8213 - val_loss: 0.5088 - val_accuracy: 0.8069\n",
      "Epoch 6/20\n",
      "115/115 [==============================] - 5s 46ms/step - loss: 0.4623 - accuracy: 0.8239 - val_loss: 0.5349 - val_accuracy: 0.7906\n",
      "Epoch 7/20\n",
      "115/115 [==============================] - 5s 44ms/step - loss: 0.4606 - accuracy: 0.8246 - val_loss: 0.5081 - val_accuracy: 0.8085\n",
      "Epoch 8/20\n",
      "115/115 [==============================] - 5s 46ms/step - loss: 0.4495 - accuracy: 0.8287 - val_loss: 0.5120 - val_accuracy: 0.8059\n",
      "Epoch 9/20\n",
      "115/115 [==============================] - 5s 45ms/step - loss: 0.4422 - accuracy: 0.8346 - val_loss: 0.5100 - val_accuracy: 0.8053\n",
      "Epoch 10/20\n",
      "115/115 [==============================] - 5s 47ms/step - loss: 0.4363 - accuracy: 0.8319 - val_loss: 0.5215 - val_accuracy: 0.7996\n",
      "Epoch 11/20\n",
      "115/115 [==============================] - 5s 39ms/step - loss: 0.4225 - accuracy: 0.8413 - val_loss: 0.5187 - val_accuracy: 0.8024\n",
      "Epoch 12/20\n",
      "115/115 [==============================] - 4s 38ms/step - loss: 0.4098 - accuracy: 0.8426 - val_loss: 0.5252 - val_accuracy: 0.8047\n",
      "Epoch 13/20\n",
      "115/115 [==============================] - 5s 42ms/step - loss: 0.3985 - accuracy: 0.8493 - val_loss: 0.5423 - val_accuracy: 0.7945\n",
      "Epoch 14/20\n",
      "115/115 [==============================] - 6s 49ms/step - loss: 0.3879 - accuracy: 0.8537 - val_loss: 0.5426 - val_accuracy: 0.7960\n",
      "Epoch 15/20\n",
      "115/115 [==============================] - 5s 43ms/step - loss: 0.3696 - accuracy: 0.8615 - val_loss: 0.5649 - val_accuracy: 0.8011\n",
      "Epoch 16/20\n",
      "115/115 [==============================] - 5s 45ms/step - loss: 0.3567 - accuracy: 0.8664 - val_loss: 0.5735 - val_accuracy: 0.7808\n",
      "Epoch 17/20\n",
      "115/115 [==============================] - 5s 43ms/step - loss: 0.3372 - accuracy: 0.8731 - val_loss: 0.5913 - val_accuracy: 0.7900\n",
      "Epoch 18/20\n",
      "115/115 [==============================] - 5s 42ms/step - loss: 0.3190 - accuracy: 0.8779 - val_loss: 0.6209 - val_accuracy: 0.7728\n",
      "Epoch 19/20\n",
      "115/115 [==============================] - 5s 48ms/step - loss: 0.2992 - accuracy: 0.8903 - val_loss: 0.6427 - val_accuracy: 0.7820\n",
      "Epoch 20/20\n",
      "115/115 [==============================] - 5s 42ms/step - loss: 0.2852 - accuracy: 0.8956 - val_loss: 0.6433 - val_accuracy: 0.7897\n"
     ]
    },
    {
     "data": {
      "text/plain": [
       "<keras.callbacks.History at 0x283dc3b4be0>"
      ]
     },
     "execution_count": 52,
     "metadata": {},
     "output_type": "execute_result"
    }
   ],
   "source": [
    "model.fit(x_train, y_train,validation_data=(xtest,ytest),batch_size=64, epochs=20, verbose=1)"
   ]
  },
  {
   "cell_type": "code",
   "execution_count": 53,
   "metadata": {},
   "outputs": [
    {
     "name": "stdout",
     "output_type": "stream",
     "text": [
      "99/99 [==============================] - 1s 6ms/step - loss: 0.6433 - accuracy: 0.7897\n",
      "loss:  0.6433443427085876 \n",
      " acuracia:  0.7896749377250671\n"
     ]
    }
   ],
   "source": [
    "loss1,accuracy1 = model.evaluate(xtest, ytest)\n",
    "print(\"loss: \", loss1,'\\n','acuracia: ',accuracy1)"
   ]
  },
  {
   "cell_type": "code",
   "execution_count": 54,
   "metadata": {},
   "outputs": [
    {
     "data": {
      "text/plain": [
       "array([[3.6864319e-01, 4.9890846e-01, 1.3244836e-01],\n",
       "       [9.1762817e-01, 8.0004156e-02, 2.3676222e-03],\n",
       "       [9.7566515e-01, 8.2137771e-03, 1.6121060e-02],\n",
       "       ...,\n",
       "       [9.9468106e-01, 4.7343168e-03, 5.8458361e-04],\n",
       "       [4.5383140e-01, 3.0426808e-02, 5.1574183e-01],\n",
       "       [9.9838483e-01, 1.3172980e-03, 2.9792110e-04]], dtype=float32)"
      ]
     },
     "execution_count": 54,
     "metadata": {},
     "output_type": "execute_result"
    }
   ],
   "source": [
    "prev1 = model.predict(xtest)\n",
    "prev1"
   ]
  },
  {
   "cell_type": "code",
   "execution_count": null,
   "metadata": {},
   "outputs": [],
   "source": []
  }
 ],
 "metadata": {
  "kernelspec": {
   "display_name": "Python 3",
   "language": "python",
   "name": "python3"
  },
  "language_info": {
   "codemirror_mode": {
    "name": "ipython",
    "version": 3
   },
   "file_extension": ".py",
   "mimetype": "text/x-python",
   "name": "python",
   "nbconvert_exporter": "python",
   "pygments_lexer": "ipython3",
   "version": "3.8.3"
  }
 },
 "nbformat": 4,
 "nbformat_minor": 5
}
