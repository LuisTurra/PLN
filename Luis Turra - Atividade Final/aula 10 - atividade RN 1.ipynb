{
 "cells": [
  {
   "cell_type": "code",
   "execution_count": 177,
   "metadata": {},
   "outputs": [],
   "source": [
    "import pandas as pd\n",
    "from sklearn.model_selection import train_test_split\n",
    "from sklearn.preprocessing import LabelEncoder\n",
    "from sklearn.feature_extraction.text import CountVectorizer\n",
    "from sklearn.metrics import confusion_matrix\n",
    "from keras.models import Sequential\n",
    "from keras.layers import Dense,Dropout\n"
   ]
  },
  {
   "cell_type": "code",
   "execution_count": 178,
   "metadata": {},
   "outputs": [
    {
     "data": {
      "text/html": [
       "<div>\n",
       "<style scoped>\n",
       "    .dataframe tbody tr th:only-of-type {\n",
       "        vertical-align: middle;\n",
       "    }\n",
       "\n",
       "    .dataframe tbody tr th {\n",
       "        vertical-align: top;\n",
       "    }\n",
       "\n",
       "    .dataframe thead th {\n",
       "        text-align: right;\n",
       "    }\n",
       "</style>\n",
       "<table border=\"1\" class=\"dataframe\">\n",
       "  <thead>\n",
       "    <tr style=\"text-align: right;\">\n",
       "      <th></th>\n",
       "      <th>Category</th>\n",
       "      <th>Message</th>\n",
       "    </tr>\n",
       "  </thead>\n",
       "  <tbody>\n",
       "    <tr>\n",
       "      <th>0</th>\n",
       "      <td>ham</td>\n",
       "      <td>Go until jurong point, crazy.. Available only ...</td>\n",
       "    </tr>\n",
       "    <tr>\n",
       "      <th>1</th>\n",
       "      <td>ham</td>\n",
       "      <td>Ok lar... Joking wif u oni...</td>\n",
       "    </tr>\n",
       "    <tr>\n",
       "      <th>2</th>\n",
       "      <td>spam</td>\n",
       "      <td>Free entry in 2 a wkly comp to win FA Cup fina...</td>\n",
       "    </tr>\n",
       "    <tr>\n",
       "      <th>3</th>\n",
       "      <td>ham</td>\n",
       "      <td>U dun say so early hor... U c already then say...</td>\n",
       "    </tr>\n",
       "    <tr>\n",
       "      <th>4</th>\n",
       "      <td>ham</td>\n",
       "      <td>Nah I don't think he goes to usf, he lives aro...</td>\n",
       "    </tr>\n",
       "  </tbody>\n",
       "</table>\n",
       "</div>"
      ],
      "text/plain": [
       "  Category                                            Message\n",
       "0      ham  Go until jurong point, crazy.. Available only ...\n",
       "1      ham                      Ok lar... Joking wif u oni...\n",
       "2     spam  Free entry in 2 a wkly comp to win FA Cup fina...\n",
       "3      ham  U dun say so early hor... U c already then say...\n",
       "4      ham  Nah I don't think he goes to usf, he lives aro..."
      ]
     },
     "execution_count": 178,
     "metadata": {},
     "output_type": "execute_result"
    }
   ],
   "source": [
    "spam = pd.read_csv(\"spam.csv\")\n",
    "spam.head()"
   ]
  },
  {
   "cell_type": "code",
   "execution_count": 179,
   "metadata": {},
   "outputs": [],
   "source": [
    "labelencoder = LabelEncoder()"
   ]
  },
  {
   "cell_type": "code",
   "execution_count": 180,
   "metadata": {},
   "outputs": [
    {
     "data": {
      "text/plain": [
       "array([0, 0, 1, ..., 0, 0, 0])"
      ]
     },
     "execution_count": 180,
     "metadata": {},
     "output_type": "execute_result"
    }
   ],
   "source": [
    "y = labelencoder.fit_transform(spam['Category'])\n",
    "y"
   ]
  },
  {
   "cell_type": "code",
   "execution_count": 181,
   "metadata": {},
   "outputs": [],
   "source": [
    "mensagens = spam['Message'].values\n",
    "x_train,x_test,y_train,y_test = train_test_split(mensagens,y,test_size = 0.3)"
   ]
  },
  {
   "cell_type": "code",
   "execution_count": 182,
   "metadata": {},
   "outputs": [],
   "source": [
    "# pip install CountVectorizer"
   ]
  },
  {
   "cell_type": "code",
   "execution_count": 183,
   "metadata": {},
   "outputs": [
    {
     "name": "stdout",
     "output_type": "stream",
     "text": [
      "[[0 0 0 ... 0 0 0]\n",
      " [0 0 0 ... 0 0 0]\n",
      " [0 0 0 ... 0 0 0]\n",
      " ...\n",
      " [0 0 0 ... 0 0 0]\n",
      " [0 0 0 ... 0 0 0]\n",
      " [0 0 0 ... 0 0 0]]\n"
     ]
    }
   ],
   "source": [
    "vetorizador = CountVectorizer()\n",
    "vetorizador.fit(x_train)\n",
    "x_train = vetorizador.transform(x_train)\n",
    "x_test = vetorizador.transform(x_test)\n",
    "print(x_train.toarray())"
   ]
  },
  {
   "cell_type": "code",
   "execution_count": 184,
   "metadata": {},
   "outputs": [],
   "source": [
    "modelo = Sequential()\n",
    "modelo.add(Dense(units=10,activation='relu',input_dim = x_train.shape[1]))\n",
    "\n",
    "modelo.add(Dropout(0.1))\n",
    "\n",
    "modelo.add(Dense(units=8,activation='relu'))\n",
    "\n",
    "modelo.add(Dropout(0.1))\n",
    "\n",
    "modelo.add(Dense(units=1,activation='sigmoid'))"
   ]
  },
  {
   "cell_type": "code",
   "execution_count": 185,
   "metadata": {},
   "outputs": [
    {
     "name": "stdout",
     "output_type": "stream",
     "text": [
      "Model: \"sequential_43\"\n",
      "_________________________________________________________________\n",
      " Layer (type)                Output Shape              Param #   \n",
      "=================================================================\n",
      " dense_76 (Dense)            (None, 10)                72190     \n",
      "                                                                 \n",
      " dropout_55 (Dropout)        (None, 10)                0         \n",
      "                                                                 \n",
      " dense_77 (Dense)            (None, 8)                 88        \n",
      "                                                                 \n",
      " dropout_56 (Dropout)        (None, 8)                 0         \n",
      "                                                                 \n",
      " dense_78 (Dense)            (None, 1)                 9         \n",
      "                                                                 \n",
      "=================================================================\n",
      "Total params: 72,287\n",
      "Trainable params: 72,287\n",
      "Non-trainable params: 0\n",
      "_________________________________________________________________\n"
     ]
    }
   ],
   "source": [
    "modelo.compile(loss='mean_squared_error',optimizer='adam',metrics=['accuracy'])\n",
    "modelo.summary()"
   ]
  },
  {
   "cell_type": "code",
   "execution_count": 186,
   "metadata": {},
   "outputs": [
    {
     "name": "stdout",
     "output_type": "stream",
     "text": [
      "Epoch 1/20\n"
     ]
    },
    {
     "name": "stderr",
     "output_type": "stream",
     "text": [
      "C:\\Users\\Pichau\\AppData\\Roaming\\Python\\Python38\\site-packages\\tensorflow\\python\\framework\\indexed_slices.py:444: UserWarning: Converting sparse IndexedSlices(IndexedSlices(indices=Tensor(\"gradient_tape/sequential_43/dense_76/embedding_lookup_sparse/Reshape_1:0\", shape=(None,), dtype=int32), values=Tensor(\"gradient_tape/sequential_43/dense_76/embedding_lookup_sparse/Reshape:0\", shape=(None, 10), dtype=float32), dense_shape=Tensor(\"gradient_tape/sequential_43/dense_76/embedding_lookup_sparse/Cast:0\", shape=(2,), dtype=int32))) to a dense Tensor of unknown shape. This may consume a large amount of memory.\n",
      "  warnings.warn(\n"
     ]
    },
    {
     "name": "stdout",
     "output_type": "stream",
     "text": [
      "390/390 [==============================] - 2s 2ms/step - loss: 0.0813 - accuracy: 0.9249 - val_loss: 0.0180 - val_accuracy: 0.9856\n",
      "Epoch 2/20\n",
      "390/390 [==============================] - 1s 2ms/step - loss: 0.0116 - accuracy: 0.9908 - val_loss: 0.0127 - val_accuracy: 0.9850\n",
      "Epoch 3/20\n",
      "390/390 [==============================] - 1s 2ms/step - loss: 0.0055 - accuracy: 0.9949 - val_loss: 0.0132 - val_accuracy: 0.9844\n",
      "Epoch 4/20\n",
      "390/390 [==============================] - 1s 2ms/step - loss: 0.0028 - accuracy: 0.9977 - val_loss: 0.0131 - val_accuracy: 0.9844\n",
      "Epoch 5/20\n",
      "390/390 [==============================] - 1s 2ms/step - loss: 0.0023 - accuracy: 0.9977 - val_loss: 0.0127 - val_accuracy: 0.9850\n",
      "Epoch 6/20\n",
      "390/390 [==============================] - 1s 2ms/step - loss: 0.0012 - accuracy: 0.9990 - val_loss: 0.0133 - val_accuracy: 0.9850\n",
      "Epoch 7/20\n",
      "390/390 [==============================] - 1s 2ms/step - loss: 0.0012 - accuracy: 0.9990 - val_loss: 0.0120 - val_accuracy: 0.9862\n",
      "Epoch 8/20\n",
      "390/390 [==============================] - 1s 2ms/step - loss: 9.4030e-04 - accuracy: 0.9995 - val_loss: 0.0130 - val_accuracy: 0.9850\n",
      "Epoch 9/20\n",
      "390/390 [==============================] - 1s 2ms/step - loss: 8.7605e-04 - accuracy: 0.9992 - val_loss: 0.0138 - val_accuracy: 0.9850\n",
      "Epoch 10/20\n",
      "390/390 [==============================] - 1s 2ms/step - loss: 7.3796e-04 - accuracy: 0.9990 - val_loss: 0.0132 - val_accuracy: 0.9868\n",
      "Epoch 11/20\n",
      "390/390 [==============================] - 1s 2ms/step - loss: 4.5952e-04 - accuracy: 0.9997 - val_loss: 0.0135 - val_accuracy: 0.9856\n",
      "Epoch 12/20\n",
      "390/390 [==============================] - 1s 2ms/step - loss: 4.6195e-04 - accuracy: 0.9997 - val_loss: 0.0138 - val_accuracy: 0.9850\n",
      "Epoch 13/20\n",
      "390/390 [==============================] - 1s 2ms/step - loss: 4.5638e-04 - accuracy: 0.9997 - val_loss: 0.0142 - val_accuracy: 0.9850\n",
      "Epoch 14/20\n",
      "390/390 [==============================] - 1s 2ms/step - loss: 4.1534e-04 - accuracy: 0.9997 - val_loss: 0.0147 - val_accuracy: 0.9839\n",
      "Epoch 15/20\n",
      "390/390 [==============================] - 1s 2ms/step - loss: 3.5212e-04 - accuracy: 0.9997 - val_loss: 0.0145 - val_accuracy: 0.9833\n",
      "Epoch 16/20\n",
      "390/390 [==============================] - 1s 2ms/step - loss: 5.0257e-04 - accuracy: 0.9997 - val_loss: 0.0148 - val_accuracy: 0.9850\n",
      "Epoch 17/20\n",
      "390/390 [==============================] - 1s 3ms/step - loss: 3.9835e-04 - accuracy: 0.9997 - val_loss: 0.0149 - val_accuracy: 0.9844\n",
      "Epoch 18/20\n",
      "390/390 [==============================] - 1s 2ms/step - loss: 3.4600e-04 - accuracy: 0.9997 - val_loss: 0.0150 - val_accuracy: 0.9839\n",
      "Epoch 19/20\n",
      "390/390 [==============================] - 1s 2ms/step - loss: 2.9798e-04 - accuracy: 0.9997 - val_loss: 0.0156 - val_accuracy: 0.9833\n",
      "Epoch 20/20\n",
      "390/390 [==============================] - 1s 2ms/step - loss: 4.6089e-04 - accuracy: 0.9995 - val_loss: 0.0150 - val_accuracy: 0.9833\n"
     ]
    },
    {
     "data": {
      "text/plain": [
       "<keras.callbacks.History at 0x1b35e3f1ac0>"
      ]
     },
     "execution_count": 186,
     "metadata": {},
     "output_type": "execute_result"
    }
   ],
   "source": [
    "modelo.fit(x_train,y_train,epochs=20,batch_size=10,verbose=True,validation_data=(x_test,y_test))"
   ]
  },
  {
   "cell_type": "code",
   "execution_count": 187,
   "metadata": {},
   "outputs": [
    {
     "name": "stdout",
     "output_type": "stream",
     "text": [
      "53/53 [==============================] - 0s 1ms/step - loss: 0.0150 - accuracy: 0.9833\n",
      "Loss:  0.015015999786555767 \n",
      "Acuracia:  98.32535982131958\n"
     ]
    }
   ],
   "source": [
    "loss,accuracy = modelo.evaluate(x_test,y_test)\n",
    "print('Loss: ',loss,'\\nAcuracia: ',accuracy*100)"
   ]
  },
  {
   "cell_type": "code",
   "execution_count": 188,
   "metadata": {},
   "outputs": [
    {
     "name": "stdout",
     "output_type": "stream",
     "text": [
      "[[1.4239550e-04]\n",
      " [5.0711824e-10]\n",
      " [2.5172532e-03]\n",
      " ...\n",
      " [1.8632320e-11]\n",
      " [3.7791946e-07]\n",
      " [3.7295688e-21]]\n"
     ]
    }
   ],
   "source": [
    "nova_previsao = modelo.predict(x_test)\n",
    "print(nova_previsao)"
   ]
  },
  {
   "cell_type": "code",
   "execution_count": 189,
   "metadata": {},
   "outputs": [
    {
     "data": {
      "text/plain": [
       "array([[False],\n",
       "       [False],\n",
       "       [False],\n",
       "       ...,\n",
       "       [False],\n",
       "       [False],\n",
       "       [False]])"
      ]
     },
     "execution_count": 189,
     "metadata": {},
     "output_type": "execute_result"
    }
   ],
   "source": [
    "prev=(nova_previsao>0.5)\n",
    "prev"
   ]
  },
  {
   "cell_type": "code",
   "execution_count": 190,
   "metadata": {},
   "outputs": [
    {
     "data": {
      "text/plain": [
       "array([[1432,    9],\n",
       "       [  19,  212]], dtype=int64)"
      ]
     },
     "execution_count": 190,
     "metadata": {},
     "output_type": "execute_result"
    }
   ],
   "source": [
    "cm=confusion_matrix(y_test,prev)\n",
    "cm"
   ]
  },
  {
   "cell_type": "markdown",
   "metadata": {},
   "source": [
    "# atividade 10"
   ]
  },
  {
   "cell_type": "code",
   "execution_count": 191,
   "metadata": {},
   "outputs": [],
   "source": [
    "modelo = Sequential()\n",
    "modelo.add(Dense(units=10,activation='relu',input_dim = x_train.shape[1]))\n",
    "\n",
    "modelo.add(Dropout(0.1))\n",
    "\n",
    "modelo.add(Dense(units=8,activation='relu'))\n",
    "\n",
    "modelo.add(Dropout(0.1))\n",
    "\n",
    "modelo.add(Dense(units=6,activation='relu'))\n",
    "\n",
    "modelo.add(Dropout(0.1))\n",
    "\n",
    "modelo.add(Dense(units=1,activation='sigmoid'))"
   ]
  },
  {
   "cell_type": "code",
   "execution_count": 192,
   "metadata": {},
   "outputs": [
    {
     "name": "stdout",
     "output_type": "stream",
     "text": [
      "Model: \"sequential_44\"\n",
      "_________________________________________________________________\n",
      " Layer (type)                Output Shape              Param #   \n",
      "=================================================================\n",
      " dense_79 (Dense)            (None, 10)                72190     \n",
      "                                                                 \n",
      " dropout_57 (Dropout)        (None, 10)                0         \n",
      "                                                                 \n",
      " dense_80 (Dense)            (None, 8)                 88        \n",
      "                                                                 \n",
      " dropout_58 (Dropout)        (None, 8)                 0         \n",
      "                                                                 \n",
      " dense_81 (Dense)            (None, 6)                 54        \n",
      "                                                                 \n",
      " dropout_59 (Dropout)        (None, 6)                 0         \n",
      "                                                                 \n",
      " dense_82 (Dense)            (None, 1)                 7         \n",
      "                                                                 \n",
      "=================================================================\n",
      "Total params: 72,339\n",
      "Trainable params: 72,339\n",
      "Non-trainable params: 0\n",
      "_________________________________________________________________\n"
     ]
    }
   ],
   "source": [
    "modelo.compile(loss='mean_squared_error',optimizer='adam',metrics=['accuracy'])\n",
    "modelo.summary()"
   ]
  },
  {
   "cell_type": "code",
   "execution_count": 193,
   "metadata": {},
   "outputs": [
    {
     "name": "stdout",
     "output_type": "stream",
     "text": [
      "Epoch 1/20\n"
     ]
    },
    {
     "name": "stderr",
     "output_type": "stream",
     "text": [
      "C:\\Users\\Pichau\\AppData\\Roaming\\Python\\Python38\\site-packages\\tensorflow\\python\\framework\\indexed_slices.py:444: UserWarning: Converting sparse IndexedSlices(IndexedSlices(indices=Tensor(\"gradient_tape/sequential_44/dense_79/embedding_lookup_sparse/Reshape_1:0\", shape=(None,), dtype=int32), values=Tensor(\"gradient_tape/sequential_44/dense_79/embedding_lookup_sparse/Reshape:0\", shape=(None, 10), dtype=float32), dense_shape=Tensor(\"gradient_tape/sequential_44/dense_79/embedding_lookup_sparse/Cast:0\", shape=(2,), dtype=int32))) to a dense Tensor of unknown shape. This may consume a large amount of memory.\n",
      "  warnings.warn(\n"
     ]
    },
    {
     "name": "stdout",
     "output_type": "stream",
     "text": [
      "390/390 [==============================] - 2s 3ms/step - loss: 0.1348 - accuracy: 0.9315 - val_loss: 0.0225 - val_accuracy: 0.9803\n",
      "Epoch 2/20\n",
      "390/390 [==============================] - 1s 2ms/step - loss: 0.0366 - accuracy: 0.9736 - val_loss: 0.0146 - val_accuracy: 0.9844\n",
      "Epoch 3/20\n",
      "390/390 [==============================] - 1s 2ms/step - loss: 0.0279 - accuracy: 0.9769 - val_loss: 0.0124 - val_accuracy: 0.9862\n",
      "Epoch 4/20\n",
      "390/390 [==============================] - 1s 2ms/step - loss: 0.0216 - accuracy: 0.9885 - val_loss: 0.0117 - val_accuracy: 0.9874\n",
      "Epoch 5/20\n",
      "390/390 [==============================] - 1s 2ms/step - loss: 0.0161 - accuracy: 0.9954 - val_loss: 0.0126 - val_accuracy: 0.9856\n",
      "Epoch 6/20\n",
      "390/390 [==============================] - 1s 2ms/step - loss: 0.0134 - accuracy: 0.9956 - val_loss: 0.0117 - val_accuracy: 0.9868\n",
      "Epoch 7/20\n",
      "390/390 [==============================] - 1s 2ms/step - loss: 0.0097 - accuracy: 0.9982 - val_loss: 0.0115 - val_accuracy: 0.9874\n",
      "Epoch 8/20\n",
      "390/390 [==============================] - 1s 2ms/step - loss: 0.0090 - accuracy: 0.9974 - val_loss: 0.0120 - val_accuracy: 0.9862\n",
      "Epoch 9/20\n",
      "390/390 [==============================] - 1s 2ms/step - loss: 0.0071 - accuracy: 0.9990 - val_loss: 0.0130 - val_accuracy: 0.9844\n",
      "Epoch 10/20\n",
      "390/390 [==============================] - 1s 2ms/step - loss: 0.0064 - accuracy: 0.9977 - val_loss: 0.0133 - val_accuracy: 0.9856\n",
      "Epoch 11/20\n",
      "390/390 [==============================] - 1s 2ms/step - loss: 0.0045 - accuracy: 0.9987 - val_loss: 0.0129 - val_accuracy: 0.9868\n",
      "Epoch 12/20\n",
      "390/390 [==============================] - 1s 2ms/step - loss: 0.0039 - accuracy: 0.9992 - val_loss: 0.0147 - val_accuracy: 0.9839\n",
      "Epoch 13/20\n",
      "390/390 [==============================] - 1s 2ms/step - loss: 0.0031 - accuracy: 0.9995 - val_loss: 0.0146 - val_accuracy: 0.9844\n",
      "Epoch 14/20\n",
      "390/390 [==============================] - 1s 2ms/step - loss: 0.0029 - accuracy: 0.9990 - val_loss: 0.0142 - val_accuracy: 0.9844\n",
      "Epoch 15/20\n",
      "390/390 [==============================] - 1s 2ms/step - loss: 0.0023 - accuracy: 0.9990 - val_loss: 0.0143 - val_accuracy: 0.9850\n",
      "Epoch 16/20\n",
      "390/390 [==============================] - 1s 2ms/step - loss: 0.0016 - accuracy: 0.9997 - val_loss: 0.0140 - val_accuracy: 0.9850\n",
      "Epoch 17/20\n",
      "390/390 [==============================] - 1s 2ms/step - loss: 0.0014 - accuracy: 0.9997 - val_loss: 0.0140 - val_accuracy: 0.9850\n",
      "Epoch 18/20\n",
      "390/390 [==============================] - 1s 2ms/step - loss: 0.0013 - accuracy: 0.9995 - val_loss: 0.0145 - val_accuracy: 0.9839\n",
      "Epoch 19/20\n",
      "390/390 [==============================] - 1s 2ms/step - loss: 0.0011 - accuracy: 0.9997 - val_loss: 0.0147 - val_accuracy: 0.9844\n",
      "Epoch 20/20\n",
      "390/390 [==============================] - 1s 2ms/step - loss: 9.2405e-04 - accuracy: 0.9997 - val_loss: 0.0150 - val_accuracy: 0.9844\n"
     ]
    },
    {
     "data": {
      "text/plain": [
       "<keras.callbacks.History at 0x1b36039e040>"
      ]
     },
     "execution_count": 193,
     "metadata": {},
     "output_type": "execute_result"
    }
   ],
   "source": [
    "modelo.fit(x_train,y_train,epochs=20,batch_size=10,verbose=True,validation_data=(x_test,y_test))"
   ]
  },
  {
   "cell_type": "code",
   "execution_count": 194,
   "metadata": {},
   "outputs": [
    {
     "name": "stdout",
     "output_type": "stream",
     "text": [
      "53/53 [==============================] - 0s 1ms/step - loss: 0.0150 - accuracy: 0.9844\n",
      "Loss:  0.014954385347664356 \n",
      "Acuracia:  98.44497442245483\n"
     ]
    }
   ],
   "source": [
    "loss,accuracy = modelo.evaluate(x_test,y_test)\n",
    "print('Loss: ',loss,'\\nAcuracia: ',accuracy*100)"
   ]
  },
  {
   "cell_type": "code",
   "execution_count": 195,
   "metadata": {},
   "outputs": [
    {
     "name": "stdout",
     "output_type": "stream",
     "text": [
      "[[1.1585057e-03]\n",
      " [5.5038220e-07]\n",
      " [2.0981133e-03]\n",
      " ...\n",
      " [1.0439772e-07]\n",
      " [1.0809247e-04]\n",
      " [7.9271910e-12]]\n"
     ]
    }
   ],
   "source": [
    "nova_previsao = modelo.predict(x_test)\n",
    "print(nova_previsao)"
   ]
  },
  {
   "cell_type": "code",
   "execution_count": 196,
   "metadata": {},
   "outputs": [
    {
     "data": {
      "text/plain": [
       "array([[False],\n",
       "       [False],\n",
       "       [False],\n",
       "       ...,\n",
       "       [False],\n",
       "       [False],\n",
       "       [False]])"
      ]
     },
     "execution_count": 196,
     "metadata": {},
     "output_type": "execute_result"
    }
   ],
   "source": [
    "prev=(nova_previsao>0.5)\n",
    "prev"
   ]
  },
  {
   "cell_type": "code",
   "execution_count": 197,
   "metadata": {},
   "outputs": [
    {
     "data": {
      "text/plain": [
       "array([[1436,    5],\n",
       "       [  21,  210]], dtype=int64)"
      ]
     },
     "execution_count": 197,
     "metadata": {},
     "output_type": "execute_result"
    }
   ],
   "source": [
    "cm=confusion_matrix(y_test,prev)\n",
    "cm"
   ]
  },
  {
   "cell_type": "code",
   "execution_count": null,
   "metadata": {},
   "outputs": [],
   "source": []
  }
 ],
 "metadata": {
  "kernelspec": {
   "display_name": "Python 3",
   "language": "python",
   "name": "python3"
  },
  "language_info": {
   "codemirror_mode": {
    "name": "ipython",
    "version": 3
   },
   "file_extension": ".py",
   "mimetype": "text/x-python",
   "name": "python",
   "nbconvert_exporter": "python",
   "pygments_lexer": "ipython3",
   "version": "3.8.3"
  }
 },
 "nbformat": 4,
 "nbformat_minor": 5
}
